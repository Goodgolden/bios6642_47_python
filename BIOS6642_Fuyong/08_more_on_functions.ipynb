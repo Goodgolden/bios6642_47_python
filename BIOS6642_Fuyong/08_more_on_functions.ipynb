{
 "cells": [
  {
   "cell_type": "code",
   "execution_count": 1,
   "metadata": {},
   "outputs": [
    {
     "name": "stdout",
     "output_type": "stream",
     "text": [
      "a=1, b=2, c=3\n",
      "a=10, b=20, c=30\n",
      "a=100, b=200, c=300\n",
      "a=1000, b=2000, c=3000\n"
     ]
    }
   ],
   "source": [
    "def process(a,b,c):\n",
    "    print('a={0}, b={1}, c={2}'.format(a,b,c))\n",
    "    \n",
    "process(1,2,3)\n",
    "process(a=10,b=20,c=30)\n",
    "process(b=200,c=300,a=100)\n",
    "process(1000,c=3000,b=2000)"
   ]
  },
  {
   "cell_type": "code",
   "execution_count": 3,
   "metadata": {},
   "outputs": [
    {
     "ename": "SyntaxError",
     "evalue": "positional argument follows keyword argument (<ipython-input-3-3506804c9e03>, line 8)",
     "output_type": "error",
     "traceback": [
      "\u001b[0;36m  File \u001b[0;32m\"<ipython-input-3-3506804c9e03>\"\u001b[0;36m, line \u001b[0;32m8\u001b[0m\n\u001b[0;31m    process(c=3000,1000,b=2000) # This is not legal.\u001b[0m\n\u001b[0m                  ^\u001b[0m\n\u001b[0;31mSyntaxError\u001b[0m\u001b[0;31m:\u001b[0m positional argument follows keyword argument\n"
     ]
    }
   ],
   "source": [
    "def process(a,b,c=90):\n",
    "    print('a={0}, b={1}, c={2}'.format(a,b,c))\n",
    "    \n",
    "process(1,2,3)\n",
    "process(a=10,b=20)\n",
    "process(b=200,a=100)\n",
    "process(1000,c=3000,b=2000)\n",
    "process(c=3000,1000,b=2000) # This is not legal."
   ]
  },
  {
   "cell_type": "code",
   "execution_count": 4,
   "metadata": {},
   "outputs": [
    {
     "name": "stdout",
     "output_type": "stream",
     "text": [
      "a=1, b=2, c=3\n"
     ]
    }
   ],
   "source": [
    "def process(**args):\n",
    "    print('a={0}, b={1}, c={2}'.format(args['a'],args['b'],args['c']))\n",
    "    \n",
    "process(a=1,b=2,c=3,d=4,e=5)    \n",
    "#process(1,2,3)"
   ]
  },
  {
   "cell_type": "code",
   "execution_count": 5,
   "metadata": {},
   "outputs": [
    {
     "name": "stdout",
     "output_type": "stream",
     "text": [
      "17\n"
     ]
    }
   ],
   "source": [
    "def evaluate(f,a,b):\n",
    "    return f(a,b)\n",
    "\n",
    "def add(a,b):\n",
    "    return a + b\n",
    "\n",
    "def add2(a,b,c):\n",
    "    return a + b\n",
    "\n",
    "print(evaluate(add,8,9))\n",
    "#print(evaluate(add2,8,9)"
   ]
  },
  {
   "cell_type": "code",
   "execution_count": 6,
   "metadata": {},
   "outputs": [
    {
     "name": "stdout",
     "output_type": "stream",
     "text": [
      "9\n",
      "17\n"
     ]
    }
   ],
   "source": [
    "def evaluate(f,a,b=1):\n",
    "    return f(a,b)\n",
    "\n",
    "def add(a,b):\n",
    "    return a + b\n",
    "\n",
    "def add2(a,b,c=1):\n",
    "    return a + b\n",
    "\n",
    "print(evaluate(add,8))\n",
    "print(evaluate(add2,8,9))"
   ]
  },
  {
   "cell_type": "code",
   "execution_count": 7,
   "metadata": {},
   "outputs": [
    {
     "name": "stdout",
     "output_type": "stream",
     "text": [
      "32\n"
     ]
    }
   ],
   "source": [
    "def evaluate(f,a,b):\n",
    "    return f(a,b)\n",
    "\n",
    "print(evaluate(lambda x, y: 3*x + 2, 10, 2))"
   ]
  },
  {
   "cell_type": "code",
   "execution_count": 8,
   "metadata": {},
   "outputs": [
    {
     "name": "stdout",
     "output_type": "stream",
     "text": [
      "2\n",
      "2\n"
     ]
    }
   ],
   "source": [
    "fun1 = lambda: 2\n",
    "print(fun1())\n",
    "print(2)"
   ]
  },
  {
   "cell_type": "code",
   "execution_count": 9,
   "metadata": {},
   "outputs": [
    {
     "name": "stdout",
     "output_type": "stream",
     "text": [
      "Enter an integer: 8\n",
      "8 is NOT prime\n"
     ]
    }
   ],
   "source": [
    "# import sys\n",
    "# sys.path.append(\"myfolder\")\n",
    "\n",
    "from myfolder.primecode import is_prime\n",
    "num = int(input(\"Enter an integer: \"))\n",
    "if is_prime(num):\n",
    "    print(num, \"is prime\")\n",
    "else:\n",
    "    print(num, \"is NOT prime\")"
   ]
  },
  {
   "cell_type": "code",
   "execution_count": 10,
   "metadata": {},
   "outputs": [
    {
     "name": "stdout",
     "output_type": "stream",
     "text": [
      "Enter an integer: 9\n",
      "9 is NOT prime\n"
     ]
    }
   ],
   "source": [
    "import sys\n",
    "sys.path.append(\"myfolder\")\n",
    "from primecode import is_prime\n",
    "num = int(input(\"Enter an integer: \"))\n",
    "if is_prime(num):\n",
    "    print(num, \"is prime\")\n",
    "else:\n",
    "    print(num, \"is NOT prime\")"
   ]
  },
  {
   "cell_type": "code",
   "execution_count": null,
   "metadata": {},
   "outputs": [],
   "source": []
  }
 ],
 "metadata": {
  "kernelspec": {
   "display_name": "Python 3",
   "language": "python",
   "name": "python3"
  },
  "language_info": {
   "codemirror_mode": {
    "name": "ipython",
    "version": 3
   },
   "file_extension": ".py",
   "mimetype": "text/x-python",
   "name": "python",
   "nbconvert_exporter": "python",
   "pygments_lexer": "ipython3",
   "version": "3.6.5"
  }
 },
 "nbformat": 4,
 "nbformat_minor": 2
}
