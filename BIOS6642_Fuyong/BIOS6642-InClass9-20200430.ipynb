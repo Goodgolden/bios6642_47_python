{
 "cells": [
  {
   "cell_type": "code",
   "execution_count": 21,
   "metadata": {},
   "outputs": [],
   "source": [
    "class Animal:\n",
    "    def __init__(self, name, age):\n",
    "        self.name = name\n",
    "        self.age = age\n",
    "    def get_age(self):\n",
    "        return self.age\n",
    "    def get_name(self):\n",
    "        return self.name\n",
    "    def set_age(self, newage):\n",
    "        self.age = newage\n",
    "    def set_name(self, newname=\"\"):\n",
    "        self.name = newname\n",
    "    def __str__(self):\n",
    "        return \"animal:\"+str(self.name)+\":\"+str(self.age)\n",
    "    \n",
    "class Dog(Animal):\n",
    "    def __init__(self, ID, name, age):\n",
    "        super().__init__(name, age)\n",
    "        self.parents = \"none\" \n",
    "        self.ID = ID\n",
    "    def get_ID(self):\n",
    "        return self.ID\n",
    "    def set_ID(self, ID):\n",
    "        self.ID = ID\n",
    "    def get_parents(self):\n",
    "        return self.parents.name\n",
    "    def set_parents(self, *dog):\n",
    "        self.age=0\n",
    "        self.parents = dog\n",
    "    def __add__(self, dog):\n",
    "        dog_baby=Dog(ID=None, name=None, age=0)\n",
    "        dog_baby.parents=[self.name, dog.name]\n",
    "        return dog_baby\n",
    "    def __str__(self):\n",
    "        return \"Dog:\"+str(self.ID)+\":\"+str(self.name)+\":\"+str(self.age)"
   ]
  },
  {
   "cell_type": "code",
   "execution_count": 39,
   "metadata": {},
   "outputs": [
    {
     "name": "stdout",
     "output_type": "stream",
     "text": [
      "DogA's Information: animal:Summer:10 \n",
      "DogB's Information: Dog:314159:Copper:12\n",
      "DogC's Information: Dog:265358:Lady:0 and her parents are: ('Summer', 'Copper')\n",
      "DogD's Information: Dog:89793:Shaggy:5\n",
      "DogE's Information: Dog:None:None:0\n",
      "Baby DogE's Information Dog:502114:Ghost:0 and his parents are: ['Lady', 'Shaggy']\n"
     ]
    }
   ],
   "source": [
    "doga=Animal(\"Summer\", 10)\n",
    "dogb=Dog(314159, \"Copper\", 11)\n",
    "dogb.set_age(12)\n",
    "dogb.get_age()\n",
    "dogc=Dog(265358, \"Lady\", 5)\n",
    "print(\"DogA's Information:\", doga, \"\\nDogB's Information:\", dogb)\n",
    "dogc.set_parents(doga.name, dogb.name)\n",
    "print(\"DogC's Information:\", dogc, \"and her parents are:\", dogc.parents)\n",
    "dogd=Dog(89793, \"Shaggy\", 5)\n",
    "print(\"DogD's Information:\", dogd)\n",
    "doge=dogc+dogd\n",
    "print(\"DogE's Information:\", doge)\n",
    "doge.set_name(\"Ghost\")\n",
    "doge.set_ID(502114)\n",
    "print(\"Baby DogE's Information\", doge, \"and his parents are:\", doge.parents)"
   ]
  },
  {
   "cell_type": "code",
   "execution_count": null,
   "metadata": {},
   "outputs": [],
   "source": []
  }
 ],
 "metadata": {
  "kernelspec": {
   "display_name": "Python 3",
   "language": "python",
   "name": "python3"
  },
  "language_info": {
   "codemirror_mode": {
    "name": "ipython",
    "version": 3
   },
   "file_extension": ".py",
   "mimetype": "text/x-python",
   "name": "python",
   "nbconvert_exporter": "python",
   "pygments_lexer": "ipython3",
   "version": "3.7.4"
  }
 },
 "nbformat": 4,
 "nbformat_minor": 2
}
