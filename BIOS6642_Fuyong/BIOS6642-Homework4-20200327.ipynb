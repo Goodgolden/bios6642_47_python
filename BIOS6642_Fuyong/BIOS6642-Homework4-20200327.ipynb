{
 "cells": [
  {
   "cell_type": "code",
   "execution_count": null,
   "metadata": {
    "scrolled": false
   },
   "outputs": [],
   "source": [
    "lst=input(\"please provide your list of integers, seperate with space: \")\n",
    "length=int(input(\"please provide your positive integer: \"))\n",
    "avg=int(input(\"please provide your average integer: \")) # to take the inputs\n",
    "lst=list(lst.split()) # split the string of numbers into list\n",
    "lst=list(map(int, lst)) # converge the numbers in the list into integers\n",
    "\n",
    "def game1(lst, length, avg): # define a function to find the answer\n",
    "    sumup=avg*length # to get the sum of the critical value\n",
    "    time=0\n",
    "    print(\"Here are the correct results: \")\n",
    "    for i in range(0, len(lst)-length+1): # iteration of all possible combination i\n",
    "        addup=0 # clear the memory of addup for each iteration of j\n",
    "        for j in range(i, i+length): # iteration to get the elements in the \"length\" sublist\n",
    "            addup=addup+lst[j] # sum up the elements in the sublist with \"length\" elements\n",
    "        if addup>=sumup: # the correct result: sum of sublist is larger than critical value\n",
    "            print(lst[i:(i+length)]) # print out the final result\n",
    "            time+=1\n",
    "        else: # the alternative condition, if the sum of sublist smaller than the critical\n",
    "            continue # just continue and get to the next set of sublist  \n",
    "    print(\"The answer is: \", time)\n",
    "game1(lst, length, avg)"
   ]
  },
  {
   "cell_type": "code",
   "execution_count": null,
   "metadata": {},
   "outputs": [],
   "source": [
    "lst=input(\"please provide your list of integers, seperate with space: \")\n",
    "length=int(input(\"please provide your positive integer: \"))\n",
    "avg=int(input(\"please provide your average integer: \")) # to take the inputs\n",
    "lst=list(lst.split()) # split the string of numbers into list\n",
    "lst=list(map(int, lst)) # converge the numbers in the list into integers\n",
    "\n",
    "def game2(lst, length, avg): # define a function\n",
    "    from itertools import combinations # need to use the combination tool\n",
    "    time=0 # start with zero times, this will record each correct result\n",
    "    comb=combinations(lst, length) # the comb contain all the sublist\n",
    "    sumup=avg*length # to get the sum of the critical value\n",
    "    print(\"\\nHere are the correct results: \")\n",
    "    for each in list(comb): # for loop to test each sublist in comb\n",
    "        addup=0 # sum up the elements in the sublist with \"length\" elements\n",
    "        for i in range(0, length): # iteration to get the elements in the \"length\" sublist\n",
    "            addup+=each[i]  # sum up the elements in the sublist with \"length\" elements\n",
    "        if addup>=sumup: # the correct result: sum of sublist is larger than critical value\n",
    "            print(each) # print out the final result\n",
    "            time+=1 # add one more time to the correct answer\n",
    "        else: # the alternative condition, if the sum of sublist smaller than the critical\n",
    "            continue # just continue and get to the next set of sublist  \n",
    "    print(\"The answer is: \", time) # finally print out the correct answer\n",
    "    \n",
    "game2(lst, length, avg) # here you go!"
   ]
  },
  {
   "cell_type": "code",
   "execution_count": null,
   "metadata": {},
   "outputs": [],
   "source": [
    "lst1=input(\"please provide your list of integers, seperate with space: \")\n",
    "lst1=list(lst1.split()) # split the string of numbers into list\n",
    "lst1=list(map(int, lst1)) # converge the numbers in the list into integers\n",
    "\n",
    "def game3(lst): # define a new game function\n",
    "    lst2=[0]*len(lst) # set up the lst2 as a list with all the zeros\n",
    "    for i in range(0, len(lst)-1): # no matter what the last element is \"0\"\n",
    "        for j in range(i+1, len(lst)): # this will make sure j is not empty\n",
    "            if lst[i]<lst[j]: # if the jth is larger than the ith\n",
    "                lst2[i]=j-i # just calculate the distance\n",
    "                break # then the program will stop for the ith, and move on\n",
    "            else: # if the ith element is the largest one, \n",
    "                continue # then we do not need to change the value \"0\" in lst2\n",
    "    print(\"This is your result: \", lst2) # finally we can print out lst2\n",
    "\n",
    "game3(lst1) # test of example 1 in the assignment \n",
    "game3([29, 30, 21, 28, 9, 12]) # test of example 2"
   ]
  },
  {
   "cell_type": "code",
   "execution_count": 10,
   "metadata": {},
   "outputs": [
    {
     "name": "stdout",
     "output_type": "stream",
     "text": [
      "please provide your string: breaktheloop\n",
      "please provide the length: 5\n",
      "here are the results:\n",
      "break True\n",
      "reakt True\n",
      "eakth True\n",
      "akthe True\n",
      "kthel True\n",
      "thelo True\n",
      "heloo False\n",
      "eloop False\n",
      "the answer is:  6\n"
     ]
    }
   ],
   "source": [
    "lst3=input(\"please provide your string: \")\n",
    "lng=int(input(\"please provide the length: \"))\n",
    "\n",
    "def unique(string): # define a new function to check the uniqueness of each letter\n",
    "    for i in range(0, len(string)): # for loop to check each ith element\n",
    "        for j in range(i+1, len(string)): # comparing with the jth element\n",
    "            if string[i]==string[j]: # if the same of ith and jth\n",
    "                return False # return the value as False\n",
    "                break # breakthe loop and stop\n",
    "    return True # otherwise if the loop is finished return True\n",
    "\n",
    "def game4(lst, lng): # define the game function\n",
    "    if lng>len(lst): # check the condition, otherwise no substring\n",
    "        print(\"the string is too short; the answer is: 0\")\n",
    "    else: # if the length of string larger than requirment\n",
    "        time=0 # clear off the number of successes\n",
    "        print(\"here are the results:\") # print out substring and uniqueness\n",
    "        for i in range(0, len(lst)-lng+1): # generate each substring\n",
    "            print(lst[i:i+lng], unique(lst[i:i+lng])) # the results\n",
    "            if unique(lst[i:i+lng])!=False: # find the substring \n",
    "                time+=1 # which has no letter repeated\n",
    "        print(\"the answer is: \", time) # finally print out the answer\n",
    "\n",
    "game4(lst3, lng)"
   ]
  }
 ],
 "metadata": {
  "kernelspec": {
   "display_name": "Python 3",
   "language": "python",
   "name": "python3"
  },
  "language_info": {
   "codemirror_mode": {
    "name": "ipython",
    "version": 3
   },
   "file_extension": ".py",
   "mimetype": "text/x-python",
   "name": "python",
   "nbconvert_exporter": "python",
   "pygments_lexer": "ipython3",
   "version": "3.7.4"
  }
 },
 "nbformat": 4,
 "nbformat_minor": 2
}
