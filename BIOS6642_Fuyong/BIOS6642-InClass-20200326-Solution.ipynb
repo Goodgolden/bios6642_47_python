{
 "cells": [
  {
   "cell_type": "code",
   "execution_count": null,
   "metadata": {},
   "outputs": [
    {
     "name": "stdout",
     "output_type": "stream",
     "text": [
      "Enter string:xyzzya\n",
      "x\n",
      "yzzya\n"
     ]
    }
   ],
   "source": [
    "# Please write a function that takes a non-empty string as input (assume the string is called my_string). \n",
    "# This string consists of only English letters, and there is no difference between uppercase and lowercase \n",
    "# letters, i.e., 'A' and 'a' are considered the same. The function repeatedly deletes two adjacent and identical \n",
    "# letters. The function returns the final string after the deletion (the letters in the final string can be all \n",
    "# lowercase). For example,\n",
    "#      If my_string = 'xyzzya', the function should return 'xa'.\n",
    "#      If my_string = 'xyx', the function should return 'xyx'.\n",
    "#      If my_string = 'xxx', the function should return 'x'.\n",
    "#      If my_string = 'xXx', the function should return 'x'.\n",
    "#      If my_string = 'xxxYyxZ', the function should return 'z'.\n",
    "# Please submit your source codes and a screenshot of the output.\n",
    "\n",
    "  \n",
    "# Defining a function that removes consecutive duplicates from string S  \n",
    "def del_dups(S, last_removed): \n",
    "          \n",
    "    n = len(S)\n",
    "      \n",
    "    # We don't need to do anything for empty or single character string.  \n",
    "    if (n < 2): \n",
    "        return\n",
    "          \n",
    "    # j is used to store index is result string (or index of current distinct character)  \n",
    "    j = 1\n",
    "      \n",
    "    # Traversing string  \n",
    "    for i in range(n):  \n",
    "        print(S[j])\n",
    "        # If current character S[i] is different from S[j]  \n",
    "        if (S[j] != S[i]): \n",
    "            j += 1\n",
    "            S[j] = S[i] \n",
    "       \n",
    "    # Putting string termination character.  \n",
    "        if S[j] == S[i]:\n",
    "            S = S[:j] + S[i+1:]\n",
    "            return S\n",
    "    \n",
    "# Driver Code  \n",
    "if __name__ == '__main__':  \n",
    "          \n",
    "    S1 = input(\"Enter string:\").lower()\n",
    "    S1 = list(S1.rstrip()) \n",
    "    S1 = del_dups(S1)  \n",
    "    print(*S1, sep = \"\")  \n",
    "          \n",
    "    S2 = input(\"Enter string:\").lower()\n",
    "    S2 = list(S2.rstrip()) \n",
    "    S2 = del_dups(S2)  \n",
    "    print(*S2, sep = \"\") \n",
    "    "
   ]
  },
  {
   "cell_type": "code",
   "execution_count": null,
   "metadata": {},
   "outputs": [],
   "source": []
  }
 ],
 "metadata": {
  "kernelspec": {
   "display_name": "Python 3",
   "language": "python",
   "name": "python3"
  },
  "language_info": {
   "codemirror_mode": {
    "name": "ipython",
    "version": 3
   },
   "file_extension": ".py",
   "mimetype": "text/x-python",
   "name": "python",
   "nbconvert_exporter": "python",
   "pygments_lexer": "ipython3",
   "version": "3.7.4"
  }
 },
 "nbformat": 4,
 "nbformat_minor": 2
}
