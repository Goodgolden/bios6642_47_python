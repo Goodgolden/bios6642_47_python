{
 "cells": [
  {
   "cell_type": "code",
   "execution_count": 1,
   "metadata": {},
   "outputs": [
    {
     "name": "stdout",
     "output_type": "stream",
     "text": [
      "1\n",
      "2\n",
      "3\n",
      "4\n",
      "5\n"
     ]
    }
   ],
   "source": [
    "count = 1 # Initialize counter\n",
    "while count <= 5: # Should we continue?\n",
    "    print(count) # Display counter, then\n",
    "    count += 1"
   ]
  },
  {
   "cell_type": "code",
   "execution_count": 3,
   "metadata": {},
   "outputs": [
    {
     "name": "stdout",
     "output_type": "stream",
     "text": [
      "0\n",
      "Please enter \"Y\" to continue or \"N\" to quit: n\n"
     ]
    }
   ],
   "source": [
    "# Counts up from zero. The user continues the count by entering\n",
    "# 'Y'. The user discontinues the count by entering 'N'.\n",
    "count = 0 # The current count\n",
    "entry = 'Y' # Count to begin with\n",
    "while entry != 'N' and entry != 'n':\n",
    "    # Print the current value of count\n",
    "    print(count)\n",
    "    entry = input('Please enter \"Y\" to continue or \"N\" to quit: ')\n",
    "    if entry == 'Y' or entry == 'y':\n",
    "        count += 1 # Keep counting\n",
    "        # Check for \"bad\" entry\n",
    "    elif entry != 'N' and entry != 'n':\n",
    "        print('\"' + entry + '\" is not a valid choice')\n",
    "# else must be 'N' or 'n'"
   ]
  },
  {
   "cell_type": "code",
   "execution_count": 8,
   "metadata": {},
   "outputs": [
    {
     "name": "stdout",
     "output_type": "stream",
     "text": [
      "Enter numbers to sum, negative number ends list:\n",
      "3.00\n"
     ]
    },
    {
     "ename": "ValueError",
     "evalue": "invalid literal for int() with base 10: '3.00'",
     "output_type": "error",
     "traceback": [
      "\u001b[1;31m---------------------------------------------------------------------------\u001b[0m",
      "\u001b[1;31mValueError\u001b[0m                                Traceback (most recent call last)",
      "\u001b[1;32m<ipython-input-8-6163854340d8>\u001b[0m in \u001b[0;36m<module>\u001b[1;34m\u001b[0m\n\u001b[0;32m      6\u001b[0m \u001b[1;33m\u001b[0m\u001b[0m\n\u001b[0;32m      7\u001b[0m \u001b[1;32mwhile\u001b[0m \u001b[0mentry\u001b[0m \u001b[1;33m>=\u001b[0m \u001b[1;36m0\u001b[0m\u001b[1;33m:\u001b[0m \u001b[1;31m# A negative number exits the loop\u001b[0m\u001b[1;33m\u001b[0m\u001b[1;33m\u001b[0m\u001b[0m\n\u001b[1;32m----> 8\u001b[1;33m     \u001b[0mentry\u001b[0m \u001b[1;33m=\u001b[0m \u001b[0mint\u001b[0m\u001b[1;33m(\u001b[0m\u001b[0minput\u001b[0m\u001b[1;33m(\u001b[0m\u001b[1;33m)\u001b[0m\u001b[1;33m)\u001b[0m \u001b[1;31m# Get the value\u001b[0m\u001b[1;33m\u001b[0m\u001b[1;33m\u001b[0m\u001b[0m\n\u001b[0m\u001b[0;32m      9\u001b[0m     \u001b[1;32mif\u001b[0m \u001b[0mentry\u001b[0m \u001b[1;33m>=\u001b[0m \u001b[1;36m0\u001b[0m\u001b[1;33m:\u001b[0m \u001b[1;31m# Is number nonnegative?\u001b[0m\u001b[1;33m\u001b[0m\u001b[1;33m\u001b[0m\u001b[0m\n\u001b[0;32m     10\u001b[0m         \u001b[0msum\u001b[0m \u001b[1;33m+=\u001b[0m \u001b[0mentry\u001b[0m \u001b[1;31m# Only add it if it is nonnegative\u001b[0m\u001b[1;33m\u001b[0m\u001b[1;33m\u001b[0m\u001b[0m\n",
      "\u001b[1;31mValueError\u001b[0m: invalid literal for int() with base 10: '3.00'"
     ]
    }
   ],
   "source": [
    "entry = 0 # Ensure the loop is entered\n",
    "sum = 0 # Initialize sum\n",
    "\n",
    "# Request input from the user\n",
    "print(\"Enter numbers to sum, negative number ends list:\")\n",
    "\n",
    "while entry >= 0: # A negative number exits the loop\n",
    "    entry = int(input()) # Get the value\n",
    "    if entry >= 0: # Is number nonnegative?\n",
    "        sum += entry # Only add it if it is nonnegative\n",
    "print(\"Sum =\", sum) # Display the sum"
   ]
  },
  {
   "cell_type": "code",
   "execution_count": 12,
   "metadata": {},
   "outputs": [
    {
     "name": "stdout",
     "output_type": "stream",
     "text": [
      "Help! My computer doesn't work!\n",
      "Does the computer make any sounds (fans, etc.) \n",
      "or show any lights? (y/n):y\n",
      "Please consult a service technician.\n"
     ]
    }
   ],
   "source": [
    "print(\"Help! My computer doesn't work!\")\n",
    "done = False # Not done initially\n",
    "while not done:\n",
    "    print(\"Does the computer make any sounds (fans, etc.) \")\n",
    "    choice = input(\"or show any lights? (y/n):\")\n",
    "    # The troubleshooting control logic\n",
    "    if choice == 'n': # The computer does not have power\n",
    "        choice = input(\"Is it plugged in? (y/n):\")\n",
    "        if choice == 'n': # It is not plugged in, plug it in\n",
    "            print(\"Plug it in.\")\n",
    "        else: # It is plugged in\n",
    "            choice = input(\"Is the switch in the \\\"on\\\" position? (y/n):\")\n",
    "            if choice == 'n': # The switch is off, turn it on!\n",
    "                print(\"Turn it on.\")\n",
    "            else: # The switch is on\n",
    "                choice = input(\"Does the computer have a fuse? (y/n):\")\n",
    "                if choice == 'n': # No fuse\n",
    "                    choice = input(\"Is the outlet OK? (y/n):\")\n",
    "                    if choice == 'n': # Fix outlet\n",
    "                        print(\"Check the outlet's circuit \")\n",
    "                        print(\"breaker or fuse. Move to a\")\n",
    "                        print(\"new outlet, if necessary. \")\n",
    "                    else: # Beats me!\n",
    "                        print(\"Please consult a service technician.\")\n",
    "                        done = True # Nothing else I can do\n",
    "                else: # Check fuse\n",
    "                    print(\"Check the fuse. Replace if \")\n",
    "                    print(\"necessary.\")\n",
    "    else: # The computer has power\n",
    "        print(\"Please consult a service technician.\")\n",
    "        done = True # Nothing else I can do"
   ]
  },
  {
   "cell_type": "code",
   "execution_count": 16,
   "metadata": {},
   "outputs": [
    {
     "name": "stdout",
     "output_type": "stream",
     "text": [
      "0.0\n",
      "0.0625\n",
      "0.125\n",
      "0.1875\n",
      "0.25\n",
      "0.3125\n",
      "0.375\n",
      "0.4375\n",
      "0.5\n",
      "0.5625\n",
      "0.625\n",
      "0.6875\n",
      "0.75\n",
      "0.8125\n",
      "0.875\n",
      "0.9375\n",
      "Done\n"
     ]
    }
   ],
   "source": [
    "x = 0.0\n",
    "while x != 1.0:\n",
    "    print(x)\n",
    "    x += 0.0625\n",
    "print(\"Done\")"
   ]
  },
  {
   "cell_type": "code",
   "execution_count": 22,
   "metadata": {},
   "outputs": [
    {
     "name": "stdout",
     "output_type": "stream",
     "text": [
      "0.0\n",
      "0.1\n",
      "0.2\n",
      "0.3\n",
      "0.4\n",
      "0.5\n",
      "0.6\n",
      "0.7\n",
      "0.8\n",
      "0.9\n",
      "1.0\n",
      "Done\n"
     ]
    }
   ],
   "source": [
    "x = 0.0\n",
    "while x <= 1.0:\n",
    "    print(round(x, 3))\n",
    "    x += 0.1\n",
    "print(\"Done\")"
   ]
  },
  {
   "cell_type": "code",
   "execution_count": 27,
   "metadata": {},
   "outputs": [
    {
     "name": "stdout",
     "output_type": "stream",
     "text": [
      "21 18 15 12 9 6 3 "
     ]
    }
   ],
   "source": [
    "for n in range(21, 0, -3):\n",
    "    print(n, end=' ')"
   ]
  },
  {
   "cell_type": "code",
   "execution_count": 29,
   "metadata": {},
   "outputs": [
    {
     "name": "stdout",
     "output_type": "stream",
     "text": [
      "1 3 5 7 9 "
     ]
    }
   ],
   "source": [
    "for n in range(1, 11, 2):\n",
    "    print(n, end=\" \")"
   ]
  },
  {
   "cell_type": "code",
   "execution_count": 31,
   "metadata": {},
   "outputs": [
    {
     "name": "stdout",
     "output_type": "stream",
     "text": [
      "0 1 2 3 4 5 6 7 8 9 "
     ]
    }
   ],
   "source": [
    "for n in range(10):\n",
    "     print(n, end=\" \")"
   ]
  },
  {
   "cell_type": "code",
   "execution_count": 1,
   "metadata": {},
   "outputs": [
    {
     "name": "stdout",
     "output_type": "stream",
     "text": [
      "Please enter the level of the tree: 5\n",
      "      \n",
      "     *\n",
      "    **\n",
      "   ***\n",
      "  ****\n",
      " *****\n",
      "  ****\n",
      "   ***\n",
      "    **\n",
      "     *\n",
      "      \n"
     ]
    }
   ],
   "source": [
    "height = int(input(\"Please enter the level of the tree: \"))\n",
    "row = 1\n",
    "for row in range(height+1):\n",
    "    for count in range(height-row+1):\n",
    "        print(end=' ')\n",
    "    for count in range(height-row+1, height+1):\n",
    "        print(end='*')\n",
    "    print()\n",
    "for row in range(height+1, 2*height+1):\n",
    "    for count in range(row-height+1):\n",
    "        print(end=' ')\n",
    "    for count in range(row-height+1, height+1):\n",
    "        print(end='*')\n",
    "    print()"
   ]
  },
  {
   "cell_type": "code",
   "execution_count": 1,
   "metadata": {},
   "outputs": [
    {
     "name": "stdout",
     "output_type": "stream",
     "text": [
      "Please enter the level of the tree: 7\n",
      "       \n",
      "      *\n",
      "     **\n",
      "    ***\n",
      "   ****\n",
      "  *****\n",
      " ******\n",
      "*******\n",
      " ******\n",
      "  *****\n",
      "   ****\n",
      "    ***\n",
      "     **\n",
      "      *\n",
      "\n"
     ]
    }
   ],
   "source": [
    "height = int(input(\"Please enter the level of the tree: \"))\n",
    "row = 1\n",
    "for row in range(height+1):\n",
    "    uptree = \" \"*(height-row) + \"*\"*row\n",
    "    print(uptree)\n",
    "for row in range(height+1, 2*height):\n",
    "    downtree = \" \"*(row-height) + \"*\"*(2*height-row)\n",
    "    print(downtree)\n",
    "print()"
   ]
  },
  {
   "cell_type": "code",
   "execution_count": 2,
   "metadata": {},
   "outputs": [
    {
     "name": "stdout",
     "output_type": "stream",
     "text": [
      "Please enter the level of the rows (>=2): 12\n",
      "Please enter the level of the colums (>=2): 13\n",
      "+ – – – – – – – – – – – +\n",
      "|                       |\n",
      "|                       |\n",
      "|                       |\n",
      "|                       |\n",
      "|                       |\n",
      "|                       |\n",
      "|                       |\n",
      "|                       |\n",
      "|                       |\n",
      "|                       |\n",
      "+ – – – – – – – – – – – +\n"
     ]
    }
   ],
   "source": [
    "row = int(input(\"Please enter the level of the rows (>=2): \"))\n",
    "col = int(input(\"Please enter the level of the colums (>=2): \"))\n",
    "print(\"+ \", \"– \"*(col-2), \"+\", sep=\"\")\n",
    "for count in range(2, row):\n",
    "    print(\"| \", \"  \"*(col-2), \"|\", sep=\"\")\n",
    "print(\"+ \", \"– \"*(col-2), \"+\", sep=\"\")"
   ]
  }
 ],
 "metadata": {
  "kernelspec": {
   "display_name": "Python 3",
   "language": "python",
   "name": "python3"
  },
  "language_info": {
   "codemirror_mode": {
    "name": "ipython",
    "version": 3
   },
   "file_extension": ".py",
   "mimetype": "text/x-python",
   "name": "python",
   "nbconvert_exporter": "python",
   "pygments_lexer": "ipython3",
   "version": "3.7.4"
  }
 },
 "nbformat": 4,
 "nbformat_minor": 2
}
