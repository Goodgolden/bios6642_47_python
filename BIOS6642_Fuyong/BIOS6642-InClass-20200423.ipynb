{
 "cells": [
  {
   "cell_type": "code",
   "execution_count": 50,
   "metadata": {},
   "outputs": [],
   "source": [
    "class Rectangle:\n",
    "        def __init__(self, x, y, w, h):\n",
    "            if w<0 and h<0:\n",
    "                raise ValueError('Negative')\n",
    "            self.x=x\n",
    "            self.y=y\n",
    "            self.w=w\n",
    "            self.h=h\n",
    "        def get_perimeter (self):\n",
    "            p=2*(self.w+self.h)\n",
    "            return p     \n",
    "        def get_area(self):\n",
    "            return self.w*self.h\n",
    "        def is_inside(self, a, b):\n",
    "            if (a<(self.x+self.w) and a>self.x) and (b<(self.y+self.h) and b>self.h):\n",
    "                 return True\n",
    "            else:\n",
    "                 return False    \n",
    "   "
   ]
  },
  {
   "cell_type": "code",
   "execution_count": 59,
   "metadata": {},
   "outputs": [],
   "source": [
    "def get_overlap_area(r1, r2):\n",
    "    if (r2.x<(r1.x+r1.w) and r2.x>r1.x) and (r2.y<(r1.y+r1.h) and r2.y>r1.y):\n",
    "        oa=(r1.x+r1.w-r2.x)*(r1.y+r1.h-r2.y)\n",
    "        return oa\n",
    "    else:\n",
    "        return 0\n",
    "def get_distance(r1, r2):\n",
    "    import math\n",
    "    sq=((r2.x+r2.w/2)-(r1.x+r1.w/2))**2+((r2.y+r2.h/2)-(r1.y+r1.h/2))**2\n",
    "    return math.sqrt(sq)"
   ]
  },
  {
   "cell_type": "code",
   "execution_count": 60,
   "metadata": {},
   "outputs": [
    {
     "name": "stdout",
     "output_type": "stream",
     "text": [
      "area:  35 16\n",
      "perimeter:  24 20\n",
      "is point(6, 16) in rec1:  False\n",
      "is point(6, 16) in rec2:  True\n",
      "overlap:  2\n",
      "distance:  6.670832032063167\n"
     ]
    }
   ],
   "source": [
    "r1=Rectangle(2, 3, 5, 7)\n",
    "r2=Rectangle(5, 9, 2, 8)\n",
    "print(\"area: \", r1.get_area(), r2.get_area())\n",
    "print(\"perimeter: \", r1.get_perimeter(), r2.get_perimeter())\n",
    "print(\"is point(6, 16) in rec1: \", r1.is_inside(6,16))\n",
    "print(\"is point(6, 16) in rec2: \", r2.is_inside(6,16))\n",
    "print(\"overlap: \", get_overlap_area(r1, r2))\n",
    "print(\"distance: \", get_distance(r1, r2))"
   ]
  },
  {
   "cell_type": "code",
   "execution_count": null,
   "metadata": {},
   "outputs": [],
   "source": []
  }
 ],
 "metadata": {
  "kernelspec": {
   "display_name": "Python 3",
   "language": "python",
   "name": "python3"
  },
  "language_info": {
   "codemirror_mode": {
    "name": "ipython",
    "version": 3
   },
   "file_extension": ".py",
   "mimetype": "text/x-python",
   "name": "python",
   "nbconvert_exporter": "python",
   "pygments_lexer": "ipython3",
   "version": "3.7.4"
  }
 },
 "nbformat": 4,
 "nbformat_minor": 2
}
