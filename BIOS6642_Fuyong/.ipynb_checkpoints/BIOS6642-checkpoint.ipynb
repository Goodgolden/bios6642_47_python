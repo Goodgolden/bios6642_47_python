{
 "cells": [
  {
   "cell_type": "code",
   "execution_count": 29,
   "metadata": {},
   "outputs": [
    {
     "data": {
      "text/plain": [
       "36"
      ]
     },
     "execution_count": 29,
     "metadata": {},
     "output_type": "execute_result"
    }
   ],
   "source": [
    "x=2\n",
    "y=3\n",
    "x+=1\n",
    "x*=x+y*3\n",
    "x"
   ]
  },
  {
   "cell_type": "code",
   "execution_count": 15,
   "metadata": {},
   "outputs": [
    {
     "name": "stdout",
     "output_type": "stream",
     "text": [
      "Please enter an integer value: 3\n",
      "Please enter another integer value: 4\n",
      "3 + 4 = 7\n"
     ]
    }
   ],
   "source": [
    "x = input('Please enter an integer value: ')\n",
    "y = input('Please enter another integer value: ')\n",
    "num1 = int(x)\n",
    "num2 = int(y)\n",
    "print(num1, '+', num2, '=', num1 + num2)"
   ]
  },
  {
   "cell_type": "code",
   "execution_count": 17,
   "metadata": {},
   "outputs": [
    {
     "name": "stdout",
     "output_type": "stream",
     "text": [
      "Please enter an integer value: 3\n",
      "Please enter another integer value: 4\n",
      "3 + 4 = 7\n"
     ]
    }
   ],
   "source": [
    "num1 = int(input('Please enter an integer value: '))\n",
    "num2 = int(input('Please enter another integer value: '))\n",
    "print(num1, '+', num2, '=', num1 + num2)"
   ]
  },
  {
   "cell_type": "code",
   "execution_count": 18,
   "metadata": {},
   "outputs": [
    {
     "name": "stdout",
     "output_type": "stream",
     "text": [
      "ABC\n",
      "X\n",
      "Y\n",
      "Z\n"
     ]
    }
   ],
   "source": [
    "print('A', end='')\n",
    "print('B', end='')\n",
    "print('C', end='')\n",
    "print()\n",
    "print('X')\n",
    "print('Y')\n",
    "print('Z')"
   ]
  },
  {
   "cell_type": "code",
   "execution_count": 19,
   "metadata": {},
   "outputs": [
    {
     "name": "stdout",
     "output_type": "stream",
     "text": [
      "10 15 20 25\n",
      "10,15,20,25\n",
      "10152025\n",
      "10:15:20:25\n",
      "10-----15-----20-----25\n"
     ]
    }
   ],
   "source": [
    "w, x, y, z = 10, 15, 20, 25\n",
    "print(w, x, y, z)\n",
    "print(w, x, y, z, sep=',')\n",
    "print(w, x, y, z, sep='')\n",
    "print(w, x, y, z, sep=':')\n",
    "print(w, x, y, z, sep='-----')"
   ]
  },
  {
   "cell_type": "code",
   "execution_count": 20,
   "metadata": {},
   "outputs": [
    {
     "name": "stdout",
     "output_type": "stream",
     "text": [
      "2 100\n",
      "3 1000\n",
      "4 10000\n",
      "5 100000\n",
      "6 1000000\n",
      "7 10000000\n",
      "8 100000000\n",
      "9 1000000000\n",
      "10 10000000000\n",
      "11 100000000000\n",
      "12 1000000000000\n",
      "13 10000000000000\n",
      "14 100000000000000\n",
      "15 1000000000000000\n"
     ]
    }
   ],
   "source": [
    "print(2, 10**2)\n",
    "print(3, 10**3)\n",
    "print(4, 10**4)\n",
    "print(5, 10**5)\n",
    "print(6, 10**6)\n",
    "print(7, 10**7)\n",
    "print(8, 10**8)\n",
    "print(9, 10**9)\n",
    "print(10, 10**10)\n",
    "print(11, 10**11)\n",
    "print(12, 10**12)\n",
    "print(13, 10**13)"
   ]
  },
  {
   "cell_type": "code",
   "execution_count": 22,
   "metadata": {},
   "outputs": [
    {
     "name": "stdout",
     "output_type": "stream",
     "text": [
      "2 100\n",
      "3 1000\n",
      "4 10000\n",
      "5 100000\n",
      "6 1000000\n",
      "7 10000000\n",
      "8 100000000\n",
      "9 1000000000\n",
      "10 10000000000\n",
      "11 100000000000\n",
      "12 1000000000000\n",
      "13 10000000000000\n"
     ]
    }
   ],
   "source": [
    "print('{0} {1}'.format(2, 10**2))\n",
    "print('{0} {1}'.format(3, 10**3))\n",
    "print('{0} {1}'.format(4, 10**4))\n",
    "print('{0} {1}'.format(5, 10**5))\n",
    "print('{0} {1}'.format(6, 10**6))\n",
    "print('{0} {1}'.format(7, 10**7))\n",
    "print('{0} {1}'.format(8, 10**8))\n",
    "print('{0} {1}'.format(9, 10**9))\n",
    "print('{0} {1}'.format(10, 10**10))\n",
    "print('{0} {1}'.format(11, 10**11))\n",
    "print('{0} {1}'.format(12, 10**12))\n",
    "print('{0} {1}'.format(13, 10**13))"
   ]
  },
  {
   "cell_type": "code",
   "execution_count": 3,
   "metadata": {},
   "outputs": [
    {
     "name": "stdout",
     "output_type": "stream",
     "text": [
      "Please enter an integer value: 25\n",
      "Please enter another integer value: 60\n",
      "Please enter another integer value: 50\n",
      "The movie will be end in \n",
      " dd:hh:mm:ss \n",
      "\n",
      "1:11:33:40\n"
     ]
    }
   ],
   "source": [
    "h = int(input('Please enter an integer value: '))\n",
    "m = int(input('Please enter another integer value: '))\n",
    "s = int(input('Please enter another integer value: '))\n",
    "t = 60*60*(h+9) + 60*(m+32) + (s+50)\n",
    "d1 = t // (3600*24)\n",
    "h1 = t % (3600*24) //3600\n",
    "m1 = t % 3600 //60\n",
    "s1 = t % 60\n",
    "print('The movie will be end in \\n', 'dd:hh:mm:ss \\n' )\n",
    "print(  d1, h1, m1, s1, sep=':')"
   ]
  },
  {
   "cell_type": "code",
   "execution_count": null,
   "metadata": {},
   "outputs": [],
   "source": []
  },
  {
   "cell_type": "code",
   "execution_count": null,
   "metadata": {},
   "outputs": [],
   "source": []
  },
  {
   "cell_type": "code",
   "execution_count": null,
   "metadata": {},
   "outputs": [],
   "source": []
  },
  {
   "cell_type": "code",
   "execution_count": null,
   "metadata": {},
   "outputs": [],
   "source": []
  }
 ],
 "metadata": {
  "kernelspec": {
   "display_name": "Python 3",
   "language": "python",
   "name": "python3"
  },
  "language_info": {
   "codemirror_mode": {
    "name": "ipython",
    "version": 3
   },
   "file_extension": ".py",
   "mimetype": "text/x-python",
   "name": "python",
   "nbconvert_exporter": "python",
   "pygments_lexer": "ipython3",
   "version": "3.7.4"
  }
 },
 "nbformat": 4,
 "nbformat_minor": 2
}
