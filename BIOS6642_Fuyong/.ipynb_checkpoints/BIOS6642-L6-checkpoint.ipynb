{
 "cells": [
  {
   "cell_type": "code",
   "execution_count": 2,
   "metadata": {},
   "outputs": [
    {
     "name": "stdout",
     "output_type": "stream",
     "text": [
      "Enter number: 12\n",
      "Square root of 12.0 = 3.4641016151377544\n"
     ]
    }
   ],
   "source": [
    "from math import sqrt\n",
    "# Get value from the user\n",
    "num = float(input(\"Enter number: \"))\n",
    "# Compute the square root\n",
    "root = sqrt(num)\n",
    "# Report result\n",
    "print(\"Square root of\", num, \"=\", root)"
   ]
  },
  {
   "cell_type": "code",
   "execution_count": 3,
   "metadata": {},
   "outputs": [
    {
     "name": "stdout",
     "output_type": "stream",
     "text": [
      "4.0\n",
      "4.0\n",
      "5.196152422706632\n",
      "4.0\n",
      "7.313708498984761\n",
      "4.0\n",
      "6.708203932499369\n"
     ]
    }
   ],
   "source": [
    "from math import sqrt\n",
    "x = 16\n",
    "# Pass a literal value and display the result\n",
    "print(sqrt(16.0))\n",
    "# Pass a variable and display the result\n",
    "print(sqrt(x))\n",
    "# Pass an expression\n",
    "print(sqrt(2 * x - 5))\n",
    "# Assign result to variable\n",
    "y = sqrt(x)\n",
    "print(y)\n",
    "# Use result in an expression\n",
    "y = 2 * sqrt(x + 16) - 4\n",
    "print(y)\n",
    "# Use result as argument to a function call\n",
    "y = sqrt(sqrt(256.0))\n",
    "print(y)\n",
    "print(sqrt(int('45')))"
   ]
  },
  {
   "cell_type": "code",
   "execution_count": 6,
   "metadata": {},
   "outputs": [
    {
     "data": {
      "text/plain": [
       "0.6295743567505762"
      ]
     },
     "execution_count": 6,
     "metadata": {},
     "output_type": "execute_result"
    }
   ],
   "source": [
    "from random import random\n",
    "random()"
   ]
  },
  {
   "cell_type": "code",
   "execution_count": 7,
   "metadata": {},
   "outputs": [
    {
     "name": "stdout",
     "output_type": "stream",
     "text": [
      "4\n",
      "None\n"
     ]
    }
   ],
   "source": [
    "print(print(4))"
   ]
  },
  {
   "cell_type": "code",
   "execution_count": 13,
   "metadata": {},
   "outputs": [
    {
     "name": "stdout",
     "output_type": "stream",
     "text": [
      "Display primes up to what value? 100\n",
      "2 3 5 7 11 13 17 19 23 29 31 37 41 43 47 53 59 61 67 71 73 79 83 89 97 \n"
     ]
    }
   ],
   "source": [
    "max_value = int(input('Display primes up to what value? '))\n",
    "# Try values from 2 (smallest prime number) to max_value\n",
    "for value in range(2, max_value + 1):\n",
    "    # See if value is prime: try all possible factors from 2 to value - 1\n",
    "    for trial_factor in range(2, value):\n",
    "        if value % trial_factor == 0:\n",
    "            break # Found a factor, no need to continue; it is NOT prime\n",
    "    else:\n",
    "        print(value, end= ' ') # Display the prime number\n",
    "print() # Move cursor down to next line"
   ]
  },
  {
   "cell_type": "code",
   "execution_count": 15,
   "metadata": {},
   "outputs": [
    {
     "name": "stdout",
     "output_type": "stream",
     "text": [
      "Please enter an integer in the range 0-10: 11\n",
      "Please enter an integer in the range 0-10: 5\n",
      "It took you 2 tries to enter a valid number\n"
     ]
    }
   ],
   "source": [
    "in_value = 0 # Ensure loop entry\n",
    "attempts = 0 # Count the number of tries\n",
    "# Loop until the user supplies a valid number\n",
    "while in_value < 1 or in_value > 10:\n",
    "    in_value = int(input(\"Please enter an integer in the range 0-10: \"))\n",
    "    attempts += 1\n",
    "# Make singular or plural word as necessary\n",
    "tries = \"try\" if attempts == 1 else \"tries\"\n",
    "# in_value at this point is guaranteed to be within range\n",
    "print(\"It took you\", attempts, tries, \"to enter a valid number\")"
   ]
  },
  {
   "cell_type": "code",
   "execution_count": 3,
   "metadata": {
    "scrolled": true
   },
   "outputs": [
    {
     "name": "stdout",
     "output_type": "stream",
     "text": [
      "Going to count to ten . . .\n",
      "1 2 3 4 5 6 7 8 9 10 \n",
      "Going to count to ten again. . .\n",
      "1 2 3 4 5 6 7 8 9 10 \n"
     ]
    }
   ],
   "source": [
    "def count_to_10():\n",
    "    for i in range(1, 11):\n",
    "        print(i, end=' ')\n",
    "    print()\n",
    "print(\"Going to count to ten . . .\")\n",
    "count_to_10()\n",
    "print(\"Going to count to ten again. . .\")\n",
    "count_to_10()"
   ]
  },
  {
   "cell_type": "code",
   "execution_count": 4,
   "metadata": {},
   "outputs": [
    {
     "name": "stdout",
     "output_type": "stream",
     "text": [
      "Going to count to ten . . .\n",
      "1 2 3 4 5 6 7 8 9 10 11 12 13 14 15 16 17 18 19 20 21 22 23 24 25 26 27 28 29 30 31 32 33 34 35 36 37 38 39 40 41 42 43 44 45 46 47 48 49 50 51 52 53 54 55 56 57 58 59 60 61 62 63 64 65 66 67 68 69 70 71 72 73 74 75 76 77 78 79 80 81 82 83 84 85 86 87 88 89 90 91 92 93 94 95 96 97 98 99 100 \n",
      "Going to count to five . . .\n",
      "1 2 3 4 5 \n"
     ]
    }
   ],
   "source": [
    "def count_to_n(n):\n",
    "    for i in range(1, n + 1):\n",
    "        print(i, end=' ')\n",
    "    print()\n",
    "print(\"Going to count to ten . . .\")\n",
    "count_to_n(100)\n",
    "print(\"Going to count to five . . .\")\n",
    "count_to_n(5)"
   ]
  },
  {
   "cell_type": "code",
   "execution_count": 6,
   "metadata": {},
   "outputs": [
    {
     "name": "stdout",
     "output_type": "stream",
     "text": [
      "1 \n",
      "1 2 \n",
      "1 2 3 \n",
      "1 2 3 4 \n",
      "1 2 3 4 5 \n",
      "1 2 3 4 5 6 \n",
      "1 2 3 4 5 6 7 \n",
      "1 2 3 4 5 6 7 8 \n",
      "1 2 3 4 5 6 7 8 9 \n"
     ]
    }
   ],
   "source": [
    "def count_to_n(n):\n",
    "    for i in range(1, n + 1):\n",
    "        print(i, end=' ')\n",
    "    print()\n",
    "for i in range(1, 10):\n",
    "    count_to_n(i)"
   ]
  },
  {
   "cell_type": "code",
   "execution_count": 25,
   "metadata": {},
   "outputs": [],
   "source": [
    "import turtle\n",
    "import random\n",
    "# Draws a regular polygon with the given number of sides.\n",
    "# The length of each side is length.\n",
    "# The pen begins at point(x, y).\n",
    "# The color of the polygon is color.\n",
    "def polygon(sides, length, x, y, color):\n",
    "    turtle.penup()\n",
    "    turtle.setposition(x, y)\n",
    "    turtle.pendown()\n",
    "    turtle.color(color)\n",
    "    turtle.begin_fill()\n",
    "    for i in range(sides):\n",
    "        turtle.forward(length)\n",
    "        turtle.left(360//sides)\n",
    "    turtle.end_fill()\n",
    "# Disable rendering to speed up drawing\n",
    "turtle.hideturtle()\n",
    "turtle.tracer(0)\n",
    "# Draw 20 random polygons with 3-11 sides, each side ranging\n",
    "# in length from 10-50, located at random position (x, y).\n",
    "# Select a color at random from red, green, blue, black, or yellow.\n",
    "\n",
    "for i in range(20):\n",
    "    polygon(random.randrange(3, 11), random.randrange(10, 51),\n",
    "        random.randrange(-250, 251), random.randrange(-250, 251),\n",
    "        random.choice((\"red\", \"green\", \"blue\", \"black\", \"yellow\")))\n",
    "turtle.update() # Render image\n",
    "turtle.exitonclick() # Wait for user's mouse click"
   ]
  },
  {
   "cell_type": "code",
   "execution_count": 27,
   "metadata": {},
   "outputs": [
    {
     "name": "stdout",
     "output_type": "stream",
     "text": [
      "Enter first point's x: 56\n",
      "Enter first point's y: 612\n",
      "Enter second point's x: 15\n",
      "Enter second point's y: 2\n",
      "Midpoint of (56.0, 612.0) and (15.0, 2.0) is (35.5, 307.0)\n"
     ]
    }
   ],
   "source": [
    "def midpoint(pt1, pt2):\n",
    "    x1, y1 = pt1 # Extract x and y components from the first point\n",
    "    x2, y2 = pt2 # Extract x and y components from the second point\n",
    "    return (x1 + x2)/2, (y1 + y2)/2\n",
    "# Get two points from the user\n",
    "point1 = float(input(\"Enter first point's x: \")), \\\n",
    "    float(input(\"Enter first point's y: \"))\n",
    "point2 = float(input(\"Enter second point's x: \")), \\\n",
    "    float(input(\"Enter second point's y: \"))\n",
    "# Compute the midpoint\n",
    "mid = midpoint(point1, point2)\n",
    "# Report result to user\n",
    "print('Midpoint of', point1, 'and', point2, 'is', mid)"
   ]
  },
  {
   "cell_type": "code",
   "execution_count": 29,
   "metadata": {},
   "outputs": [
    {
     "name": "stdout",
     "output_type": "stream",
     "text": [
      "Please enter an integer: 85\n",
      "Please enter another integer: 5\n",
      "5\n"
     ]
    }
   ],
   "source": [
    "# Compute the greastest common factor of two integers\n",
    "# provided by the user\n",
    "# Prompt user for input\n",
    "num1 = int(input('Please enter an integer: '))\n",
    "num2 = int(input('Please enter another integer: '))\n",
    "\n",
    "# Determine the smaller of num1 and num2\n",
    "min = num1 if num1 < num2 else num2\n",
    "\n",
    "# 1 definitely is a common factor to all ints\n",
    "largest_factor = 1\n",
    "for i in range(1, min + 1):\n",
    "    if num1 % i == 0 and num2 % i == 0:\n",
    "        largest_factor = i # Found larger factor\n",
    "# Print the GCD\n",
    "print(largest_factor)"
   ]
  },
  {
   "cell_type": "code",
   "execution_count": 34,
   "metadata": {},
   "outputs": [
    {
     "name": "stdout",
     "output_type": "stream",
     "text": [
      "Please enter an integer: 56\n",
      "Please enter another integer: 15\n",
      "The largest factor is 1\n"
     ]
    }
   ],
   "source": [
    "num1 = int(input('Please enter an integer: '))\n",
    "num2 = int(input('Please enter another integer: '))\n",
    "def gcd(num1, num2):\n",
    "    # Determine the smaller of num1 and num2\n",
    "    min = num1 if num1 < num2 else num2\n",
    "    # 1 definitely is a common factor to all ints\n",
    "    largest_factor = 1\n",
    "    for i in range(1, min + 1):\n",
    "        if num1 % i == 0 and num2 % i == 0:\n",
    "            largest_factor = i # Found larger factor\n",
    "    return largest_factor\n",
    "print(\"The largest factor is\", gcd(num1, num2))"
   ]
  },
  {
   "cell_type": "code",
   "execution_count": 35,
   "metadata": {},
   "outputs": [
    {
     "name": "stdout",
     "output_type": "stream",
     "text": [
      "1. x = 2\n",
      "3. x = 2\n",
      "5. x = 2\n",
      "2. x = 10\n",
      "4. x = 20\n",
      "6. x = 2\n"
     ]
    }
   ],
   "source": [
    "x = 2\n",
    "print(\"1. x =\", x) # Print variable x's current value\n",
    "def fun1():\n",
    "    x = 10\n",
    "    print(\"2. x =\", x) # Print this variable x's current value\n",
    "print(\"3. x =\", x) # Print variable x's current value\n",
    "def fun2():\n",
    "    x = 20\n",
    "    print(\"4. x =\", x) # Print this variable x's current value\n",
    "print(\"5. x =\", x) # Print variable x's current value\n",
    "fun1() # Invoke function fun1\n",
    "fun2() # Invoke function fun2\n",
    "print(\"6. x =\", x) # Print variable x's current value"
   ]
  },
  {
   "cell_type": "code",
   "execution_count": 36,
   "metadata": {},
   "outputs": [
    {
     "name": "stdout",
     "output_type": "stream",
     "text": [
      "Please enter an integer: 56\n",
      "Please enter another integer: 6\n",
      "2\n"
     ]
    }
   ],
   "source": [
    "# Compute the greatest common factor of two integers\n",
    "# provided by the user\n",
    "def gcd(n1, n2):\n",
    "    # Determine the smaller of n1 and n2\n",
    "    min = n1 if n1 < n2 else n2\n",
    "    # 1 definitely is a common factor to all ints\n",
    "    largest_factor = 1\n",
    "    for i in range(1, min + 1):\n",
    "        if n1 % i == 0 and n2 % i == 0:\n",
    "            largest_factor = i # Found larger factor\n",
    "    return largest_factor\n",
    "\n",
    "# Exercise the gcd function\n",
    "# Prompt user for input\n",
    "num1 = int(input('Please enter an integer: '))\n",
    "num2 = int(input('Please enter another integer: '))\n",
    "# Determine the smaller of num1 and num2\n",
    "min = num1 if num1 < num2 else num2\n",
    "# Print the GCD\n",
    "print(gcd(num1, num2))"
   ]
  },
  {
   "cell_type": "code",
   "execution_count": 4,
   "metadata": {
    "scrolled": true
   },
   "outputs": [
    {
     "name": "stdout",
     "output_type": "stream",
     "text": [
      "-6\n",
      "n= -6\n"
     ]
    }
   ],
   "source": [
    "done=False\n",
    "n,m=0,100\n",
    "while not done and n!=m:\n",
    "    n=int(input())\n",
    "    if n<0:\n",
    "        done=True\n",
    "    print(\"n=\", n)"
   ]
  },
  {
   "cell_type": "code",
   "execution_count": null,
   "metadata": {},
   "outputs": [],
   "source": [
    "done=False\n",
    "n,m=0,100\n",
    "while not done and n!=m:\n",
    "    n=int(input())\n",
    "    if n<0:\n",
    "        print(\"n=\", n)\n",
    "        break\n",
    "    print(\"n=\", n)"
   ]
  },
  {
   "cell_type": "code",
   "execution_count": 5,
   "metadata": {},
   "outputs": [
    {
     "name": "stdout",
     "output_type": "stream",
     "text": [
      "2\n",
      "count= 1\n",
      "4\n",
      "count= 2\n",
      "6\n",
      "count= 3\n",
      "8\n",
      "count= 4\n",
      "9\n",
      "count= 4\n",
      "-9\n",
      "n= -9\n",
      "count= 4\n"
     ]
    }
   ],
   "source": [
    "done=False\n",
    "n,m=0,100\n",
    "count=0\n",
    "while not done and n!=m:\n",
    "    n=int(input())\n",
    "    if n<0:\n",
    "        print(\"n=\", n)\n",
    "        break\n",
    "    if n%2==0:\n",
    "        count+=1\n",
    "    print(\"count=\", count)\n",
    "print(\"count=\", count)"
   ]
  },
  {
   "cell_type": "code",
   "execution_count": 3,
   "metadata": {},
   "outputs": [
    {
     "name": "stdout",
     "output_type": "stream",
     "text": [
      "4\n",
      "n= 4\n",
      "2\n",
      "n= 2\n",
      "6\n",
      "n= 6\n",
      "9\n",
      "n= 9\n",
      "count= 3\n"
     ]
    }
   ],
   "source": [
    "done=False\n",
    "n,m=0,100\n",
    "count=0\n",
    "while not done and n!=m:\n",
    "    n=int(input())\n",
    "    if (n%2) ==1:\n",
    "        print(\"n=\", n)\n",
    "        break\n",
    "    count +=1\n",
    "    print(\"n=\", n)\n",
    "print(\"count=\", count)"
   ]
  },
  {
   "cell_type": "code",
   "execution_count": 8,
   "metadata": {},
   "outputs": [
    {
     "data": {
      "text/plain": [
       "8"
      ]
     },
     "execution_count": 8,
     "metadata": {},
     "output_type": "execute_result"
    }
   ],
   "source": [
    "def gcd(m, n):\n",
    "    # Determine the smaller of m and n\n",
    "    min = m if m < n else n\n",
    "    # 1 is definitely a common factor to all ints\n",
    "    largest_factor = 1\n",
    "    for i in range(1, min + 1):\n",
    "        if m % i == 0 and n % i == 0:\n",
    "            largest_factor = i # Found larger factor\n",
    "    return largest_factor\n",
    "gcd(56,16)"
   ]
  },
  {
   "cell_type": "code",
   "execution_count": 13,
   "metadata": {},
   "outputs": [
    {
     "name": "stdout",
     "output_type": "stream",
     "text": [
      "Please enter an integer: 65\n"
     ]
    },
    {
     "data": {
      "text/plain": [
       "65"
      ]
     },
     "execution_count": 13,
     "metadata": {},
     "output_type": "execute_result"
    }
   ],
   "source": [
    "def get_int():\n",
    "    return int(input(\"Please enter an integer: \"))\n",
    "get_int()"
   ]
  },
  {
   "cell_type": "code",
   "execution_count": 14,
   "metadata": {},
   "outputs": [
    {
     "name": "stdout",
     "output_type": "stream",
     "text": [
      "Please enter an integer: 96\n",
      "Please enter an integer: 65\n",
      "gcd(96,65) = 1\n"
     ]
    }
   ],
   "source": [
    "def main():\n",
    "    n1 = get_int()\n",
    "    n2 = get_int()\n",
    "    print(\"gcd(\", n1, \",\", n2, \") = \", gcd(n1, n2), sep=\"\")\n",
    "# Run the program\n",
    "main()"
   ]
  },
  {
   "cell_type": "code",
   "execution_count": 18,
   "metadata": {},
   "outputs": [
    {
     "name": "stdout",
     "output_type": "stream",
     "text": [
      "Help on function gcd in module __main__:\n",
      "\n",
      "gcd(n1, n2)\n",
      "    Computes the greatest common divisor of integers n1 and n2.\n",
      "\n"
     ]
    }
   ],
   "source": [
    "def gcd(n1, n2):\n",
    "    \"\"\" Computes the greatest common divisor of integers n1 and n2. \"\"\"\n",
    "    # Determine the smaller of n1 and n2\n",
    "    min = n1 if n1 < n2 else n2\n",
    "    # 1 definitely is a common factor to all ints\n",
    "    largest_factor = 1\n",
    "    for i in range(1, min + 1):\n",
    "        if n1 % i == 0 and n2 % i == 0:\n",
    "            largest_factor = i # Found larger factor\n",
    "    return largest_factor\n",
    "gcd(56, 12)\n",
    "help(gcd)"
   ]
  },
  {
   "cell_type": "code",
   "execution_count": 19,
   "metadata": {},
   "outputs": [
    {
     "name": "stdout",
     "output_type": "stream",
     "text": [
      " Computes the greatest common divisor of integers n1 and n2. \n"
     ]
    }
   ],
   "source": [
    "print(gcd.__doc__)"
   ]
  },
  {
   "cell_type": "code",
   "execution_count": 20,
   "metadata": {},
   "outputs": [
    {
     "name": "stdout",
     "output_type": "stream",
     "text": [
      "None\n"
     ]
    }
   ],
   "source": [
    "print(main.__doc__)"
   ]
  },
  {
   "cell_type": "code",
   "execution_count": 21,
   "metadata": {},
   "outputs": [],
   "source": [
    "from math import sqrt\n",
    "def is_prime(n):\n",
    "    \"\"\"\n",
    "    Determines the primality of a given value.\n",
    "    n an integer to test for primality.\n",
    "    Returns true if n is prime; otherwise, returns false.\n",
    "    \"\"\"\n",
    "    root = round(sqrt(n)) + 1\n",
    "    # Try all potential factors from 2 to the square root of n\n",
    "    for trial_factor in range(2, root):\n",
    "        if n % trial_factor == 0: # Is it a factor?\n",
    "            return False # Found a factor\n",
    "    return True # No factors found\n",
    "\n",
    "\n",
    "def main():\n",
    "    \"\"\"\n",
    "    Tests for primality each integer from 2 up to a value provided by the user.\n",
    "    If an integer is prime, it prints it; otherwise, the number is not printed.\n",
    "    \"\"\"\n",
    "    max_value = int(input(\"Display primes up to what value? \"))\n",
    "    for value in range(2, max_value + 1):\n",
    "        if is_prime(value): # See if value is prime\n",
    "            print(value, end=\" \") # Display the prime number\n",
    "    print() # Move cursor down to next line\n",
    "\n",
    "    main() # Run the program"
   ]
  },
  {
   "cell_type": "code",
   "execution_count": 2,
   "metadata": {},
   "outputs": [
    {
     "name": "stdout",
     "output_type": "stream",
     "text": [
      "Please enter string1: bananana\n",
      "Please enter string2: na\n",
      "3\n"
     ]
    }
   ],
   "source": [
    "def comstring():\n",
    "    str1 = input('Please enter string1: ')\n",
    "    str2 = input('Please enter string2: ')\n",
    "    if len(str1) > len(str2):\n",
    "        count=0\n",
    "        for i in range(0, len(str1)+1):\n",
    "            if str1[i:i+len(str2)]==str2:\n",
    "                count+=1\n",
    "            else:\n",
    "                continue\n",
    "    print(count)\n",
    "            \n",
    "comstring()       \n"
   ]
  },
  {
   "cell_type": "code",
   "execution_count": 11,
   "metadata": {},
   "outputs": [
    {
     "name": "stdout",
     "output_type": "stream",
     "text": [
      "Please enter string1: banana\n",
      "Please enter string2: ana\n",
      "2\n"
     ]
    }
   ],
   "source": [
    "comstring()"
   ]
  },
  {
   "cell_type": "code",
   "execution_count": null,
   "metadata": {},
   "outputs": [],
   "source": []
  },
  {
   "cell_type": "code",
   "execution_count": null,
   "metadata": {},
   "outputs": [],
   "source": []
  },
  {
   "cell_type": "code",
   "execution_count": null,
   "metadata": {},
   "outputs": [],
   "source": []
  },
  {
   "cell_type": "code",
   "execution_count": null,
   "metadata": {},
   "outputs": [],
   "source": []
  }
 ],
 "metadata": {
  "kernelspec": {
   "display_name": "Python 3",
   "language": "python",
   "name": "python3"
  },
  "language_info": {
   "codemirror_mode": {
    "name": "ipython",
    "version": 3
   },
   "file_extension": ".py",
   "mimetype": "text/x-python",
   "name": "python",
   "nbconvert_exporter": "python",
   "pygments_lexer": "ipython3",
   "version": "3.7.4"
  }
 },
 "nbformat": 4,
 "nbformat_minor": 2
}
