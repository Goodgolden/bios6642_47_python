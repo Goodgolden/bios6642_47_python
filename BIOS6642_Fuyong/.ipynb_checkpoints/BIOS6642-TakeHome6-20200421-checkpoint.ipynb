{
 "cells": [
  {
   "cell_type": "code",
   "execution_count": 2,
   "metadata": {},
   "outputs": [
    {
     "name": "stdout",
     "output_type": "stream",
     "text": [
      "Please provide a integer number: 3141892653589793\n",
      "The number you want to remove: 8\n"
     ]
    },
    {
     "data": {
      "text/plain": [
       "'11823587'"
      ]
     },
     "execution_count": 2,
     "metadata": {},
     "output_type": "execute_result"
    }
   ],
   "source": [
    "number=input(\"Please provide a integer number: \") # take the input integer list\n",
    "k=int(input(\"The number you want to remove: \")) # take the number of integers to remove\n",
    "\n",
    "def game1(number, k):\n",
    "    new=[] # a list for the number \n",
    "    n=len(number)\n",
    "    if n==k: # in the case of every integer is removed\n",
    "        return \"0\"\n",
    "    for d in number: # iteration of every number\n",
    "        if k and new and new[-1]>d: # if the next number is small\n",
    "            new.pop() # remove the last integer, because it decreasing\n",
    "            k-=1 # after the removing of the number\n",
    "        new.append(d) # make the new list which is increasing\n",
    "    if k>0 : # need further removing\n",
    "        new.pop() # remove the last number\n",
    "        k-=1\n",
    "    return \"\".join(new).lstrip(\"0\") or \"0\" # return the value\n",
    "              \n",
    "game1(number, k)"
   ]
  },
  {
   "cell_type": "code",
   "execution_count": 1,
   "metadata": {
    "scrolled": true
   },
   "outputs": [
    {
     "name": "stdout",
     "output_type": "stream",
     "text": [
      "Please provide the words: eat eating eator east easter enjoy yeast\n",
      "Please provide string1: ea\n",
      "Please provide string2: r\n",
      "Your result is the index[4] word in the list: easter\n"
     ]
    }
   ],
   "source": [
    "listA=list(input(\"Please provide the words: \").split()) # take the input string list\n",
    "str1=input(\"Please provide string1: \") # take the string 1\n",
    "str2=input(\"Please provide string2: \") # take the string 2\n",
    "\n",
    "def game2(listA, str1, str2):\n",
    "    word=[] # a list for the words has str1 and str2\n",
    "    result=-1 # set result as -1\n",
    "    length=len(listA) # iteration of the words list\n",
    "    for index in range(0, length):\n",
    "        prefix = (listA[index][:len(str1)]==str1) # check the prefix and suffix\n",
    "        suffix = (listA[index][len(listA[index])-len(str2):len(listA[index])]==str2)\n",
    "        if (prefix!=0) and (suffix!=0):\n",
    "            word.append(listA[index]) # add the word or pop out the old word\n",
    "            result=index # update the index\n",
    "    if word!=[]: # there are words share the prefix or suffix\n",
    "        print(\"Your result is the index[\", result, \"] word in the list: \", word[-1], sep=\"\")\n",
    "    else: # if no word fit for the prefix and suffix, just return -1\n",
    "        return result \n",
    "\n",
    "game2(listA, str1, str2)"
   ]
  },
  {
   "cell_type": "code",
   "execution_count": 6,
   "metadata": {},
   "outputs": [
    {
     "name": "stdout",
     "output_type": "stream",
     "text": [
      "Please provide a sequence of integer number: 3 14 1 5 9 26 53 4\n",
      "i:0 j:1 value x=14 string[3, 0, 0, 0, 0, 0, 0, 0]\n",
      "i:0 j:2 value x=1 string[3, 14, 0, 0, 0, 0, 0, 0]\n",
      "i:0 j:1 value x=1 string[3, 14, 0, 0, 0, 0, 0, 0]\n",
      "i:0 j:2 value x=5 string[1, 14, 0, 0, 0, 0, 0, 0]\n",
      "i:0 j:1 value x=5 string[1, 14, 0, 0, 0, 0, 0, 0]\n",
      "i:0 j:2 value x=9 string[1, 5, 0, 0, 0, 0, 0, 0]\n",
      "i:0 j:3 value x=26 string[1, 5, 9, 0, 0, 0, 0, 0]\n",
      "i:2 j:3 value x=26 string[1, 5, 9, 0, 0, 0, 0, 0]\n",
      "i:0 j:4 value x=53 string[1, 5, 9, 26, 0, 0, 0, 0]\n",
      "i:3 j:4 value x=53 string[1, 5, 9, 26, 0, 0, 0, 0]\n",
      "i:0 j:5 value x=4 string[1, 5, 9, 26, 53, 0, 0, 0]\n",
      "i:0 j:2 value x=4 string[1, 5, 9, 26, 53, 0, 0, 0]\n",
      "i:0 j:1 value x=4 string[1, 5, 9, 26, 53, 0, 0, 0]\n",
      "Here is the subsequence containing 5 elements.\n"
     ]
    }
   ],
   "source": [
    "string=input(\"Please provide a sequence of integer number: \")\n",
    "numbers=list(map(int, string.split()))\n",
    "\n",
    "def game3(nums):\n",
    "    tails = [0] * len(nums) # set tails for rearranging the increasing order\n",
    "    size = 0 # starting with the first position of the tails\n",
    "    for x in nums: # iteration of each integer in the string\n",
    "        i=0 \n",
    "        j=size # this is the size\n",
    "        while i!=j:\n",
    "            print(\"i:\", i, \" j:\", j, \" value x=\", x, \" string\", tails, sep=\"\")\n",
    "            m = (i+j)//2 # binary, dichomize the find the position m\n",
    "                        # compare to word m\n",
    "                        # then dichomize the i to j position for new m\n",
    "                        # until find the position of x\n",
    "            if tails[m]<x: # if the new integer x smaller, \n",
    "                i=m+1 # \n",
    "            else:\n",
    "                j=m # the size gonna be the \n",
    "        tails[i]=x # put the new integer x in a new position in tails\n",
    "        size=max(i+1, size) # the size depends on whether the new integer x \n",
    "                            # will replace the earlier one\n",
    "    print(\"Here is the subsequence containing\", size, \"elements.\")\n",
    "    \n",
    "game3(numbers)"
   ]
  }
 ],
 "metadata": {
  "kernelspec": {
   "display_name": "Python 3",
   "language": "python",
   "name": "python3"
  },
  "language_info": {
   "codemirror_mode": {
    "name": "ipython",
    "version": 3
   },
   "file_extension": ".py",
   "mimetype": "text/x-python",
   "name": "python",
   "nbconvert_exporter": "python",
   "pygments_lexer": "ipython3",
   "version": "3.7.4"
  }
 },
 "nbformat": 4,
 "nbformat_minor": 2
}
