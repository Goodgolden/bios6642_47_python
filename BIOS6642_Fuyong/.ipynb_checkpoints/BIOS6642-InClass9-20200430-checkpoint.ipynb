{
 "cells": [
  {
   "cell_type": "code",
   "execution_count": 3,
   "metadata": {},
   "outputs": [],
   "source": [
    "class Animal:\n",
    "    def __init__(self, name, age):\n",
    "        self.name = name\n",
    "        self.age = age\n",
    "    def get_age(self):\n",
    "        return self.age\n",
    "    def get_name(self):\n",
    "        return self.name\n",
    "    def set_age(self, newage):\n",
    "        self.age = newage\n",
    "    def set_name(self, newname=\"\"):\n",
    "        self.name = newname\n",
    "    def __str__(self):\n",
    "        return \"animal:\"+str(self.name)+\":\"+str(self.age)"
   ]
  },
  {
   "cell_type": "code",
   "execution_count": 23,
   "metadata": {},
   "outputs": [],
   "source": [
    "class Dog(Animal):\n",
    "    def __init__(self, ID, name, age):\n",
    "        super().__init__(name, age)\n",
    "        self.parents = \"none\" \n",
    "        self.ID = ID\n",
    "    def get_ID(self):\n",
    "        return \n",
    "    def set_ID(self, ID):\n",
    "        self.id = ID\n",
    "    def get_parents(self):\n",
    "        return self.parents\n",
    "    def set_parents(self, *dog):\n",
    "        self.age=0\n",
    "        self.parents = dog\n",
    "        return self.parents\n",
    "    def __add__(self, dog):\n",
    "        dog_baby=Dog(ID=None, name=None, age=0)\n",
    "        dog_baby.parents=[self.name, dog.name]\n",
    "        return dog_baby\n",
    "    def __str__(self):\n",
    "        return \"Dog:\"+str(self.ID)+\":\"+str(self.name)+\":\"+str(self.age)"
   ]
  },
  {
   "cell_type": "code",
   "execution_count": 24,
   "metadata": {},
   "outputs": [
    {
     "name": "stdout",
     "output_type": "stream",
     "text": [
      "animal:Alicia:5\n",
      "Dog:314159:Copper:12\n"
     ]
    }
   ],
   "source": [
    "doga=Animal(\"Ali\", 5)\n",
    "doga.get_age()\n",
    "doga.set_name(\"Alicia\")\n",
    "doga.get_name()\n",
    "dogb=Dog(314159, \"Copper\", 6)\n",
    "dogb.set_age(12)\n",
    "dogb.get_age()\n",
    "dogc=Dog(265358, \"Lady\", 5)\n",
    "print(doga)\n",
    "print(dogb)"
   ]
  },
  {
   "cell_type": "code",
   "execution_count": 25,
   "metadata": {},
   "outputs": [
    {
     "name": "stdout",
     "output_type": "stream",
     "text": [
      "Dog:265358:Lady:0\n"
     ]
    }
   ],
   "source": [
    "dogc.set_parents(doga.name, dogb.name)\n",
    "print(dogc)"
   ]
  },
  {
   "cell_type": "code",
   "execution_count": 27,
   "metadata": {},
   "outputs": [
    {
     "name": "stdout",
     "output_type": "stream",
     "text": [
      "Dog:None:None:0\n",
      "Dog:None:Snow:0\n"
     ]
    }
   ],
   "source": [
    "doge=dogc+dogb\n",
    "print(doge)\n",
    "doge.set_name(\"Ghost\")\n",
    "doge.set_ID(\"\")\n",
    "print(doge)"
   ]
  },
  {
   "cell_type": "code",
   "execution_count": null,
   "metadata": {},
   "outputs": [],
   "source": []
  }
 ],
 "metadata": {
  "kernelspec": {
   "display_name": "Python 3",
   "language": "python",
   "name": "python3"
  },
  "language_info": {
   "codemirror_mode": {
    "name": "ipython",
    "version": 3
   },
   "file_extension": ".py",
   "mimetype": "text/x-python",
   "name": "python",
   "nbconvert_exporter": "python",
   "pygments_lexer": "ipython3",
   "version": "3.7.4"
  }
 },
 "nbformat": 4,
 "nbformat_minor": 2
}
