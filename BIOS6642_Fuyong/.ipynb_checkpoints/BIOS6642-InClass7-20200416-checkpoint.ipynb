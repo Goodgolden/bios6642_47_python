{
 "cells": [
  {
   "cell_type": "code",
   "execution_count": 11,
   "metadata": {},
   "outputs": [
    {
     "name": "stdout",
     "output_type": "stream",
     "text": [
      "John 5\n",
      "Mia 6\n",
      "David 3\n",
      "Done!\n"
     ]
    }
   ],
   "source": [
    "with open('citations.csv') as file:\n",
    "    d={}\n",
    "    next(file)\n",
    "    for line in file:\n",
    "        mylist=line.split(\",\")\n",
    "        name=mylist[0]\n",
    "        paper=mylist[1:len(mylist)]\n",
    "        paper=[int(a) for a in paper]\n",
    "        paper.sort(reverse=True)\n",
    "        for i in range(len(paper)):\n",
    "            if paper[i]>=i+1:\n",
    "                index=i+1\n",
    "            else:\n",
    "                index=index\n",
    "        d[name]=index\n",
    "    for k, v in d.items():\n",
    "        print(k, v)\n",
    "    print(\"Done!\")\n",
    "\n"
   ]
  },
  {
   "cell_type": "code",
   "execution_count": 12,
   "metadata": {},
   "outputs": [
    {
     "name": "stdout",
     "output_type": "stream",
     "text": [
      "Mia 6\n",
      "Done!\n"
     ]
    }
   ],
   "source": [
    "def find(author, dictionary):\n",
    "    try:\n",
    "        index=dictionary[author]\n",
    "        print(author, index)\n",
    "        print(\"Done!\")\n",
    "    except ValueError:\n",
    "        print('Cannot convert integer')\n",
    "    except Exception: \n",
    "        print('This name does not exist')\n",
    "find(\"Mia\", d)"
   ]
  },
  {
   "cell_type": "code",
   "execution_count": 13,
   "metadata": {},
   "outputs": [
    {
     "name": "stdout",
     "output_type": "stream",
     "text": [
      "This name does not exist\n"
     ]
    }
   ],
   "source": [
    "find(\"Randy\", d)"
   ]
  }
 ],
 "metadata": {
  "kernelspec": {
   "display_name": "Python 3",
   "language": "python",
   "name": "python3"
  },
  "language_info": {
   "codemirror_mode": {
    "name": "ipython",
    "version": 3
   },
   "file_extension": ".py",
   "mimetype": "text/x-python",
   "name": "python",
   "nbconvert_exporter": "python",
   "pygments_lexer": "ipython3",
   "version": "3.7.4"
  }
 },
 "nbformat": 4,
 "nbformat_minor": 2
}
