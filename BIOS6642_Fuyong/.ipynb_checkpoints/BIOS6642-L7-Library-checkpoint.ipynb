{
 "cells": [
  {
   "cell_type": "code",
   "execution_count": 9,
   "metadata": {},
   "outputs": [
    {
     "data": {
      "text/plain": [
       "['In',\n",
       " 'Out',\n",
       " '_',\n",
       " '_3',\n",
       " '__',\n",
       " '___',\n",
       " '__builtin__',\n",
       " '__builtins__',\n",
       " '__doc__',\n",
       " '__loader__',\n",
       " '__name__',\n",
       " '__package__',\n",
       " '__spec__',\n",
       " '_dh',\n",
       " '_i',\n",
       " '_i1',\n",
       " '_i2',\n",
       " '_i3',\n",
       " '_i4',\n",
       " '_i5',\n",
       " '_i6',\n",
       " '_i7',\n",
       " '_i8',\n",
       " '_i9',\n",
       " '_ih',\n",
       " '_ii',\n",
       " '_iii',\n",
       " '_oh',\n",
       " 'acos',\n",
       " 'acosh',\n",
       " 'asin',\n",
       " 'asinh',\n",
       " 'atan',\n",
       " 'atan2',\n",
       " 'atanh',\n",
       " 'ceil',\n",
       " 'copysign',\n",
       " 'cos',\n",
       " 'cosh',\n",
       " 'degrees',\n",
       " 'e',\n",
       " 'erf',\n",
       " 'erfc',\n",
       " 'exit',\n",
       " 'exp',\n",
       " 'expm1',\n",
       " 'fabs',\n",
       " 'factorial',\n",
       " 'floor',\n",
       " 'fmod',\n",
       " 'frexp',\n",
       " 'fsum',\n",
       " 'gamma',\n",
       " 'gcd',\n",
       " 'get_ipython',\n",
       " 'hypot',\n",
       " 'inf',\n",
       " 'isclose',\n",
       " 'isfinite',\n",
       " 'isinf',\n",
       " 'isnan',\n",
       " 'ldexp',\n",
       " 'lgamma',\n",
       " 'log',\n",
       " 'log10',\n",
       " 'log1p',\n",
       " 'log2',\n",
       " 'modf',\n",
       " 'nan',\n",
       " 'pi',\n",
       " 'pow',\n",
       " 'quit',\n",
       " 'radians',\n",
       " 'remainder',\n",
       " 'sin',\n",
       " 'sinh',\n",
       " 'sqrt',\n",
       " 'tan',\n",
       " 'tanh',\n",
       " 'tau',\n",
       " 'trunc']"
      ]
     },
     "execution_count": 9,
     "metadata": {},
     "output_type": "execute_result"
    }
   ],
   "source": [
    "from math import *\n",
    "dir()"
   ]
  },
  {
   "cell_type": "code",
   "execution_count": 12,
   "metadata": {},
   "outputs": [
    {
     "name": "stdout",
     "output_type": "stream",
     "text": [
      "Help on built-in function exp in module math:\n",
      "\n",
      "exp(x, /)\n",
      "    Return e raised to the power of x.\n",
      "\n"
     ]
    },
    {
     "data": {
      "text/plain": [
       "2198879737400"
      ]
     },
     "execution_count": 12,
     "metadata": {},
     "output_type": "execute_result"
    }
   ],
   "source": [
    "help(exp)\n",
    "id(exp)"
   ]
  },
  {
   "cell_type": "code",
   "execution_count": 22,
   "metadata": {},
   "outputs": [
    {
     "data": {
      "text/plain": [
       "['ArithmeticError',\n",
       " 'AssertionError',\n",
       " 'AttributeError',\n",
       " 'BaseException',\n",
       " 'BlockingIOError',\n",
       " 'BrokenPipeError',\n",
       " 'BufferError',\n",
       " 'BytesWarning',\n",
       " 'ChildProcessError',\n",
       " 'ConnectionAbortedError',\n",
       " 'ConnectionError',\n",
       " 'ConnectionRefusedError',\n",
       " 'ConnectionResetError',\n",
       " 'DeprecationWarning',\n",
       " 'EOFError',\n",
       " 'Ellipsis',\n",
       " 'EnvironmentError',\n",
       " 'Exception',\n",
       " 'False',\n",
       " 'FileExistsError',\n",
       " 'FileNotFoundError',\n",
       " 'FloatingPointError',\n",
       " 'FutureWarning',\n",
       " 'GeneratorExit',\n",
       " 'IOError',\n",
       " 'ImportError',\n",
       " 'ImportWarning',\n",
       " 'IndentationError',\n",
       " 'IndexError',\n",
       " 'InterruptedError',\n",
       " 'IsADirectoryError',\n",
       " 'KeyError',\n",
       " 'KeyboardInterrupt',\n",
       " 'LookupError',\n",
       " 'MemoryError',\n",
       " 'ModuleNotFoundError',\n",
       " 'NameError',\n",
       " 'None',\n",
       " 'NotADirectoryError',\n",
       " 'NotImplemented',\n",
       " 'NotImplementedError',\n",
       " 'OSError',\n",
       " 'OverflowError',\n",
       " 'PendingDeprecationWarning',\n",
       " 'PermissionError',\n",
       " 'ProcessLookupError',\n",
       " 'RecursionError',\n",
       " 'ReferenceError',\n",
       " 'ResourceWarning',\n",
       " 'RuntimeError',\n",
       " 'RuntimeWarning',\n",
       " 'StopAsyncIteration',\n",
       " 'StopIteration',\n",
       " 'SyntaxError',\n",
       " 'SyntaxWarning',\n",
       " 'SystemError',\n",
       " 'SystemExit',\n",
       " 'TabError',\n",
       " 'TimeoutError',\n",
       " 'True',\n",
       " 'TypeError',\n",
       " 'UnboundLocalError',\n",
       " 'UnicodeDecodeError',\n",
       " 'UnicodeEncodeError',\n",
       " 'UnicodeError',\n",
       " 'UnicodeTranslateError',\n",
       " 'UnicodeWarning',\n",
       " 'UserWarning',\n",
       " 'ValueError',\n",
       " 'Warning',\n",
       " 'WindowsError',\n",
       " 'ZeroDivisionError',\n",
       " '__IPYTHON__',\n",
       " '__build_class__',\n",
       " '__debug__',\n",
       " '__doc__',\n",
       " '__import__',\n",
       " '__loader__',\n",
       " '__name__',\n",
       " '__package__',\n",
       " '__spec__',\n",
       " 'abs',\n",
       " 'all',\n",
       " 'any',\n",
       " 'ascii',\n",
       " 'bin',\n",
       " 'bool',\n",
       " 'breakpoint',\n",
       " 'bytearray',\n",
       " 'bytes',\n",
       " 'callable',\n",
       " 'chr',\n",
       " 'classmethod',\n",
       " 'compile',\n",
       " 'complex',\n",
       " 'copyright',\n",
       " 'credits',\n",
       " 'delattr',\n",
       " 'dict',\n",
       " 'dir',\n",
       " 'display',\n",
       " 'divmod',\n",
       " 'enumerate',\n",
       " 'eval',\n",
       " 'exec',\n",
       " 'filter',\n",
       " 'float',\n",
       " 'format',\n",
       " 'frozenset',\n",
       " 'get_ipython',\n",
       " 'getattr',\n",
       " 'globals',\n",
       " 'hasattr',\n",
       " 'hash',\n",
       " 'help',\n",
       " 'hex',\n",
       " 'id',\n",
       " 'input',\n",
       " 'int',\n",
       " 'isinstance',\n",
       " 'issubclass',\n",
       " 'iter',\n",
       " 'len',\n",
       " 'license',\n",
       " 'list',\n",
       " 'locals',\n",
       " 'map',\n",
       " 'max',\n",
       " 'memoryview',\n",
       " 'min',\n",
       " 'next',\n",
       " 'object',\n",
       " 'oct',\n",
       " 'open',\n",
       " 'ord',\n",
       " 'pow',\n",
       " 'print',\n",
       " 'property',\n",
       " 'range',\n",
       " 'repr',\n",
       " 'reversed',\n",
       " 'round',\n",
       " 'set',\n",
       " 'setattr',\n",
       " 'slice',\n",
       " 'sorted',\n",
       " 'staticmethod',\n",
       " 'str',\n",
       " 'sum',\n",
       " 'super',\n",
       " 'tuple',\n",
       " 'type',\n",
       " 'vars',\n",
       " 'zip']"
      ]
     },
     "execution_count": 22,
     "metadata": {},
     "output_type": "execute_result"
    }
   ],
   "source": [
    "dir(__builtins__)"
   ]
  },
  {
   "cell_type": "code",
   "execution_count": 23,
   "metadata": {},
   "outputs": [
    {
     "data": {
      "text/plain": [
       "['__call__',\n",
       " '__class__',\n",
       " '__delattr__',\n",
       " '__dir__',\n",
       " '__doc__',\n",
       " '__eq__',\n",
       " '__format__',\n",
       " '__ge__',\n",
       " '__getattribute__',\n",
       " '__gt__',\n",
       " '__hash__',\n",
       " '__init__',\n",
       " '__init_subclass__',\n",
       " '__le__',\n",
       " '__lt__',\n",
       " '__module__',\n",
       " '__name__',\n",
       " '__ne__',\n",
       " '__new__',\n",
       " '__qualname__',\n",
       " '__reduce__',\n",
       " '__reduce_ex__',\n",
       " '__repr__',\n",
       " '__self__',\n",
       " '__setattr__',\n",
       " '__sizeof__',\n",
       " '__str__',\n",
       " '__subclasshook__',\n",
       " '__text_signature__']"
      ]
     },
     "execution_count": 23,
     "metadata": {},
     "output_type": "execute_result"
    }
   ],
   "source": [
    "dir(__builtins__.print)"
   ]
  },
  {
   "cell_type": "code",
   "execution_count": 29,
   "metadata": {},
   "outputs": [
    {
     "data": {
      "text/plain": [
       "\"print(value, ..., sep=' ', end='\\\\n', file=sys.stdout, flush=False)\\n\\nPrints the values to a stream, or to sys.stdout by default.\\nOptional keyword arguments:\\nfile:  a file-like object (stream); defaults to the current sys.stdout.\\nsep:   string inserted between values, default a space.\\nend:   string appended after the last value, default a newline.\\nflush: whether to forcibly flush the stream.\""
      ]
     },
     "execution_count": 29,
     "metadata": {},
     "output_type": "execute_result"
    }
   ],
   "source": [
    "print.__doc__"
   ]
  },
  {
   "cell_type": "code",
   "execution_count": 34,
   "metadata": {},
   "outputs": [
    {
     "name": "stdout",
     "output_type": "stream",
     "text": [
      "Help on method raw_input in module ipykernel.kernelbase:\n",
      "\n",
      "raw_input(prompt='') method of ipykernel.ipkernel.IPythonKernel instance\n",
      "    Forward raw_input to frontends\n",
      "    \n",
      "    Raises\n",
      "    ------\n",
      "    StdinNotImplentedError if active frontend doesn't support stdin.\n",
      "\n"
     ]
    }
   ],
   "source": [
    "help(input)"
   ]
  },
  {
   "cell_type": "code",
   "execution_count": 35,
   "metadata": {},
   "outputs": [
    {
     "data": {
      "text/plain": [
       "['__doc__',\n",
       " '__loader__',\n",
       " '__name__',\n",
       " '__package__',\n",
       " '__spec__',\n",
       " 'acos',\n",
       " 'acosh',\n",
       " 'asin',\n",
       " 'asinh',\n",
       " 'atan',\n",
       " 'atan2',\n",
       " 'atanh',\n",
       " 'ceil',\n",
       " 'copysign',\n",
       " 'cos',\n",
       " 'cosh',\n",
       " 'degrees',\n",
       " 'e',\n",
       " 'erf',\n",
       " 'erfc',\n",
       " 'exp',\n",
       " 'expm1',\n",
       " 'fabs',\n",
       " 'factorial',\n",
       " 'floor',\n",
       " 'fmod',\n",
       " 'frexp',\n",
       " 'fsum',\n",
       " 'gamma',\n",
       " 'gcd',\n",
       " 'hypot',\n",
       " 'inf',\n",
       " 'isclose',\n",
       " 'isfinite',\n",
       " 'isinf',\n",
       " 'isnan',\n",
       " 'ldexp',\n",
       " 'lgamma',\n",
       " 'log',\n",
       " 'log10',\n",
       " 'log1p',\n",
       " 'log2',\n",
       " 'modf',\n",
       " 'nan',\n",
       " 'pi',\n",
       " 'pow',\n",
       " 'radians',\n",
       " 'remainder',\n",
       " 'sin',\n",
       " 'sinh',\n",
       " 'sqrt',\n",
       " 'tan',\n",
       " 'tanh',\n",
       " 'tau',\n",
       " 'trunc']"
      ]
     },
     "execution_count": 35,
     "metadata": {},
     "output_type": "execute_result"
    }
   ],
   "source": [
    "import math\n",
    "dir(math)"
   ]
  },
  {
   "cell_type": "code",
   "execution_count": 37,
   "metadata": {},
   "outputs": [
    {
     "data": {
      "text/plain": [
       "'This module provides access to the mathematical functions\\ndefined by the C standard.'"
      ]
     },
     "execution_count": 37,
     "metadata": {},
     "output_type": "execute_result"
    }
   ],
   "source": [
    "math.__doc__"
   ]
  },
  {
   "cell_type": "code",
   "execution_count": 39,
   "metadata": {},
   "outputs": [
    {
     "name": "stdout",
     "output_type": "stream",
     "text": [
      "Enter your name: \n",
      " it took you 0.7321559999998044 seconds to respond\n"
     ]
    }
   ],
   "source": [
    "from time import perf_counter\n",
    "print(\"Enter your name: \", end=\"\")\n",
    "start_time = perf_counter()\n",
    "name = input()\n",
    "elapsed = perf_counter() - start_time\n",
    "print(name, \"it took you\", elapsed, \"seconds to respond\")"
   ]
  },
  {
   "cell_type": "code",
   "execution_count": 1,
   "metadata": {},
   "outputs": [
    {
     "name": "stdout",
     "output_type": "stream",
     "text": [
      "sum: 5000000050000000 time: 12.5639949\n"
     ]
    }
   ],
   "source": [
    "from time import perf_counter\n",
    "sum = 0 # Initialize sum accumulator\n",
    "start = perf_counter() # Start the stopwatch\n",
    "for n in range(1, 100000001): # Sum the numbers\n",
    "    sum += n\n",
    "elapsed = perf_counter() - start # Stop the stopwatch\n",
    "print(\"sum:\", sum, \"time:\", elapsed) # Report results"
   ]
  },
  {
   "cell_type": "code",
   "execution_count": 2,
   "metadata": {},
   "outputs": [
    {
     "name": "stdout",
     "output_type": "stream",
     "text": [
      "Help on built-in function perf_counter in module time:\n",
      "\n",
      "perf_counter(...)\n",
      "    perf_counter() -> float\n",
      "    \n",
      "    Performance counter for benchmarking.\n",
      "\n"
     ]
    }
   ],
   "source": [
    "help(perf_counter)"
   ]
  },
  {
   "cell_type": "code",
   "execution_count": 3,
   "metadata": {},
   "outputs": [
    {
     "name": "stdout",
     "output_type": "stream",
     "text": [
      "10\n",
      "9\n",
      "8\n",
      "7\n",
      "6\n",
      "5\n",
      "4\n",
      "3\n",
      "2\n",
      "1\n",
      "0\n"
     ]
    }
   ],
   "source": [
    "from time import sleep\n",
    "for count in range(10, -1, -1): # Range 10, 9, 8, ..., 0\n",
    "    print(count) # Display the count\n",
    "    sleep(1) # Susp"
   ]
  },
  {
   "cell_type": "code",
   "execution_count": 8,
   "metadata": {},
   "outputs": [
    {
     "name": "stdout",
     "output_type": "stream",
     "text": [
      "198 282 165 132 575 726 942 110 158 262 422 197 562 733 771 290 615 464 20 862 130 597 36 907 498 453 44 109 693 871 128 88 334 612 611 821 885 747 425 612 264 934 331 152 825 733 650 125 775 551 707 660 64 570 669 999 230 284 295 849 327 161 742 851 147 812 726 968 941 819 312 856 778 72 255 79 846 594 200 299 702 702 889 792 733 312 276 421 227 962 118 282 279 491 545 213 216 74 685 332 \n"
     ]
    }
   ],
   "source": [
    "from random import randrange, seed\n",
    "seed(555) # Set random number seed\n",
    "for i in range(0, 100): # Print 100 random numbers\n",
    "    print(randrange(1, 1001), end=' ') # Range 1...1,000, inclusive\n",
    "print() # Print newine"
   ]
  },
  {
   "cell_type": "code",
   "execution_count": 10,
   "metadata": {},
   "outputs": [
    {
     "name": "stdout",
     "output_type": "stream",
     "text": [
      "+-------+\n",
      "|     * |\n",
      "|   *   |\n",
      "| *     |\n",
      "+-------+\n",
      "+-------+\n",
      "| *   * |\n",
      "|       |\n",
      "| *   * |\n",
      "+-------+\n",
      "+-------+\n",
      "| *   * |\n",
      "|       |\n",
      "| *   * |\n",
      "+-------+\n"
     ]
    }
   ],
   "source": [
    "from random import randrange\n",
    "# Roll the die three times\n",
    "for i in range(0, 3):\n",
    "    # Generate random number in the range 1...7\n",
    "    value = randrange(1, 7)\n",
    "    # Show the die\n",
    "    print(\"+-------+\")\n",
    "    if value == 1:\n",
    "        print(\"|       |\")\n",
    "        print(\"|   *   |\")\n",
    "        print(\"|       |\")\n",
    "    elif value == 2:\n",
    "        print(\"| *     |\")\n",
    "        print(\"|       |\")\n",
    "        print(\"|     * |\")\n",
    "    elif value == 3:\n",
    "        print(\"|     * |\")\n",
    "        print(\"|   *   |\")\n",
    "        print(\"| *     |\")\n",
    "    elif value == 4:\n",
    "        print(\"| *   * |\")\n",
    "        print(\"|       |\")\n",
    "        print(\"| *   * |\")\n",
    "    elif value == 5:\n",
    "        print(\"| *   * |\")\n",
    "        print(\"|   *   |\")\n",
    "        print(\"| *   * |\")\n",
    "    elif value == 6:\n",
    "        print(\"| * * * |\")\n",
    "        print(\"|       |\")\n",
    "        print(\"| * * * |\")\n",
    "    else:\n",
    "        print(\" *** Error: illegal die value ***\")\n",
    "    print(\"+-------+\")"
   ]
  },
  {
   "cell_type": "code",
   "execution_count": 15,
   "metadata": {},
   "outputs": [],
   "source": [
    "import turtle\n",
    "# Draw a red octogon centered at (-45, 100)\n",
    "turtle.pencolor('red') # Set pen color\n",
    "turtle.penup() # Lift pen to move it\n",
    "turtle.setposition(-45, 100) # Move the pen to coordinates (-45, 100)\n",
    "turtle.pendown() # Place pen to begin drawing\n",
    "for i in range(8): # Draw the eight sides\n",
    "    turtle.forward(80) # Each side is 80 units long\n",
    "    turtle.right(45) # Each vertex is 45 degrees\n",
    "# Draw a blue spiral centered at (0, 0)\n",
    "distance = 0.2\n",
    "angle = 40\n",
    "turtle.pencolor('blue') # Set pen color\n",
    "turtle.penup() # Left pen to move it\n",
    "turtle.setposition(0, 0) # Position the pen at coordinates (0, 0)\n",
    "turtle.pendown() # Set pen down to begin drawing\n",
    "for i in range(100):\n",
    "    turtle.forward(distance)\n",
    "    turtle.left(angle)\n",
    "    distance += 0.5\n",
    "turtle.hideturtle() # Make pen invisible\n",
    "turtle.exitonclick() # Quit program when user clicks mouse button"
   ]
  },
  {
   "cell_type": "code",
   "execution_count": 20,
   "metadata": {},
   "outputs": [],
   "source": [
    "import turtle\n",
    "y = -200 # Initial y value\n",
    "# Default speed and default delay\n",
    "turtle.color(\"red\")\n",
    "for x in range(10):\n",
    "    turtle.penup()\n",
    "    turtle.setposition(-200, y)\n",
    "    turtle.pendown()\n",
    "    turtle.forward(400)\n",
    "    y += 10\n",
    "    \n",
    "# Slowest speed, but no delay\n",
    "turtle.speed(\"slowest\")\n",
    "turtle.delay(0)\n",
    "turtle.update()\n",
    "turtle.color(\"blue\")\n",
    "for x in range(10):\n",
    "    turtle.penup()\n",
    "    turtle.setposition(-200, y)\n",
    "    turtle.pendown()\n",
    "    turtle.forward(400)\n",
    "    y += 10\n",
    "# Fastest speed with a 500 millisecond delay\n",
    "turtle.speed(\"fastest\")\n",
    "turtle.delay(500)\n",
    "turtle.update()\n",
    "turtle.color(\"green\")\n",
    "for x in range(10):\n",
    "    turtle.penup()\n",
    "    turtle.setposition(-200, y)\n",
    "    turtle.pendown()\n",
    "    turtle.forward(400)\n",
    "    y += 10\n",
    "# Fastest speed with no delay\n",
    "turtle.speed(\"fastest\")\n",
    "turtle.delay(0)\n",
    "turtle.update()\n",
    "turtle.color(\"black\")\n",
    "for x in range(10):\n",
    "    turtle.penup()\n",
    "    turtle.setposition(-200, y)\n",
    "    turtle.pendown()\n",
    "    turtle.forward(400)\n",
    "    y += 10\n",
    "turtle.done()"
   ]
  },
  {
   "cell_type": "code",
   "execution_count": 24,
   "metadata": {},
   "outputs": [],
   "source": [
    "# Draws in the window a spiral surrounded with an octagon\n",
    "import turtle as t # Use a shorter name for turtle module\n",
    "t.delay(0) # Draw as quickly as possible\n",
    "t.speed(0) # Turtle's action as fast as possible\n",
    "t.hideturtle() # Do not show the pen\n",
    "\n",
    "# Draw a red octogon centered at (-45, 100)\n",
    "t.pencolor('red') # Set pen color\n",
    "t.penup() # Lift pen to move it\n",
    "t.setposition(-45, 100) # Move the pen to coordinates (-45, 100)\n",
    "t.pendown() # Place pen to begin drawing\n",
    "for i in range(8): # Draw the eight sides\n",
    "    t.forward(80) # Each side is 80 units long\n",
    "    t.right(45) # Each vertex is 45 degrees\n",
    "    \n",
    "# Draw a blue spiral centered at (0, 0)\n",
    "distance = 0.2\n",
    "angle = 40\n",
    "t.pencolor('blue') # Set pen color\n",
    "t.penup() # Left pen to move it\n",
    "t.setposition(0, 0) # Position the pen at coordinates (0, 0)\n",
    "t.pendown() # Set pen down to begin drawing\n",
    "for i in range(100):\n",
    "    t.forward(distance)\n",
    "    t.left(angle)\n",
    "    distance += 0.5\n",
    "    \n",
    "t.exitonclick() # Quit program when user clicks the mouse button"
   ]
  },
  {
   "cell_type": "code",
   "execution_count": 29,
   "metadata": {},
   "outputs": [
    {
     "data": {
      "text/plain": [
       "<function object.__new__(*args, **kwargs)>"
      ]
     },
     "execution_count": 29,
     "metadata": {},
     "output_type": "execute_result"
    }
   ],
   "source": [
    "from math import exp\n",
    "exp.__new__"
   ]
  }
 ],
 "metadata": {
  "kernelspec": {
   "display_name": "Python 3",
   "language": "python",
   "name": "python3"
  },
  "language_info": {
   "codemirror_mode": {
    "name": "ipython",
    "version": 3
   },
   "file_extension": ".py",
   "mimetype": "text/x-python",
   "name": "python",
   "nbconvert_exporter": "python",
   "pygments_lexer": "ipython3",
   "version": "3.7.4"
  }
 },
 "nbformat": 4,
 "nbformat_minor": 2
}
