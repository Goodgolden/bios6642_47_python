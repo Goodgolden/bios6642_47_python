{
 "cells": [
  {
   "cell_type": "code",
   "execution_count": 4,
   "metadata": {
    "scrolled": true
   },
   "outputs": [
    {
     "name": "stdout",
     "output_type": "stream",
     "text": [
      "please give me your guess: 50\n",
      "50  is too small!\n",
      "Totally you used 4.833239600000013 seconds\n",
      "please give me your guess: 75\n",
      "75  is too small!\n",
      "Totally you used 9.01160520000002 seconds\n",
      "please give me your guess: 90\n",
      "90  is too small!\n",
      "Totally you used 16.346514500000012 seconds\n",
      "please give me your guess: 0\n",
      "Totally you used 9.999999974752427e-07 seconds\n",
      "please give me your guess: 0\n",
      "Totally you used 9.000000318337698e-07 seconds\n",
      "please give me your guess: 90\n",
      "90  is too small!\n",
      "Totally you used 8.09561100000002 seconds\n",
      "please give me your guess: 90\n",
      "90  is too small!\n",
      "Totally you used 11.798169200000018 seconds\n",
      "please give me your guess: 95\n",
      "95  is too small!\n",
      "Totally you used 21.156849099999988 seconds\n",
      "please give me your guess: 95\n",
      "95  is too small!\n",
      "Totally you used 52.488249800000006 seconds\n",
      "please give me your guess: 0\n",
      "Totally you used 9.000000318337698e-07 seconds\n",
      "please give me your guess: 0\n",
      "Totally you used 9.999999974752427e-07 seconds\n",
      "please give me your guess: 96\n",
      "96  is too small!\n",
      "Totally you used 5.344680600000004 seconds\n",
      "please give me your guess: 0\n",
      "Totally you used 7.999999525054591e-07 seconds\n",
      "please give me your guess: 97\n",
      "97  is too small!\n",
      "Totally you used 3.189778399999966 seconds\n",
      "please give me your guess: 98\n",
      "congratulations!!! after  1 wrong guesses, you get the corret answer!\n",
      "Totally you used 6.619945399999949 seconds\n"
     ]
    }
   ],
   "source": [
    "from random import randrange\n",
    "from time import perf_counter\n",
    "random=randrange(1, 101)\n",
    "time=0\n",
    "ans=False\n",
    "start=perf_counter()\n",
    "while ans==False:\n",
    "    user=int(input(\"please give me your guess: \"))\n",
    "    if user<0:\n",
    "        break\n",
    "    elif user==0:\n",
    "        ans=False\n",
    "        time=0\n",
    "        start=perf_counter()\n",
    "        elapsed=0\n",
    "    else:\n",
    "        if user>random:\n",
    "            print(user, \" is too large!\")\n",
    "            ans=False\n",
    "            time+=1\n",
    "        elif user<random:\n",
    "            print(user, \" is too small!\")\n",
    "            ans=False\n",
    "            time+=1\n",
    "        elif user == random:\n",
    "            ans=True\n",
    "            print(\"congratulations!!! after \", time, \"wrong guesses, you get the corret answer!\")\n",
    "        elapsed = perf_counter()-start    \n",
    "    elapsed = perf_counter()-start\n",
    "    print(\"Totally you used\", elapsed, \"seconds\")"
   ]
  }
 ],
 "metadata": {
  "kernelspec": {
   "display_name": "Python 3",
   "language": "python",
   "name": "python3"
  },
  "language_info": {
   "codemirror_mode": {
    "name": "ipython",
    "version": 3
   },
   "file_extension": ".py",
   "mimetype": "text/x-python",
   "name": "python",
   "nbconvert_exporter": "python",
   "pygments_lexer": "ipython3",
   "version": "3.7.4"
  }
 },
 "nbformat": 4,
 "nbformat_minor": 2
}
