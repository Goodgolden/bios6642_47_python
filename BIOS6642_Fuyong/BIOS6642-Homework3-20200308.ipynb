{
 "cells": [
  {
   "cell_type": "code",
   "execution_count": 1,
   "metadata": {},
   "outputs": [
    {
     "name": "stdout",
     "output_type": "stream",
     "text": [
      "Your random integer is:  47\n",
      "Your max product is:  28697814\n"
     ]
    }
   ],
   "source": [
    "from random import randrange # get the random selection function\n",
    "def maxproduct(x): # define the function \"maxproduct\"\n",
    "    if x<=3: # if the value we select is 2 the result will be 1; \n",
    "             # if the value we select is 3 the result will be 2.\n",
    "        product=x-1\n",
    "    # for any integer >4, the product of 2 or 3 will be the larger than other combinations\n",
    "    # for example: 5=3+2, 3*2=6 is the largest product   \n",
    "    elif x%3==0:\n",
    "        product=3**(int(x/3))\n",
    "    # for any integer >3 we do not want any 1 in the splite\n",
    "    # so if x%3==1, we want the number to be 4 other than 1\n",
    "    elif x%3==1:\n",
    "        product=4*3**(int(x-1)/3-1)\n",
    "    # for maximum product, we want as more 3 as possible\n",
    "    # for example: we want 3*3=9 other than 2*2*2=8 \n",
    "    else:\n",
    "        product=2*3**(int(x-2)/3)\n",
    "    return int(product)\n",
    "\n",
    "random=randrange(2,50)\n",
    "print(\"Your random integer is: \", random)\n",
    "print(\"Your max product is: \", maxproduct(random))"
   ]
  },
  {
   "cell_type": "code",
   "execution_count": 2,
   "metadata": {},
   "outputs": [
    {
     "name": "stdout",
     "output_type": "stream",
     "text": [
      "we have tried 1 times; my guess was 500\n",
      "we have tried 2 times; my guess was 750\n",
      "we have tried 3 times; my guess was 875\n",
      "we have tried 4 times; my guess was 937\n",
      "we have tried 5 times; my guess was 906\n",
      "we have tried 6 times; my guess was 921\n",
      "we have tried 7 times; my guess was 929\n",
      "we have tried 8 times; my guess was 925\n",
      "we have tried 9 times; my guess was 923\n",
      "Finally after 9 times, we get correct answer 923\n"
     ]
    }
   ],
   "source": [
    "from random import randint # get the random selection function\n",
    "def game(): # define a function with this guess game\n",
    "    number=randint(1, 1001) # randomly generate a integer from 1 to 1000\n",
    "    high=1000 # start with high bound\n",
    "    low=0 # and a low bound\n",
    "    guess=high # everytime dichotomize the range the first try start with 500\n",
    "    time=0 # start with time with 0\n",
    "    while guess!=number: # run the program until guess==number\n",
    "        if guess>number: # guess is bigger than the varible\n",
    "            high=guess # set the high bound as the guess \n",
    "            guess=int((low+high)/2) # dichotomize the range again\n",
    "            time=time+1 # time increase 1\n",
    "            print(\"we have tried\", time, \"times; my guess was\", guess)\n",
    "        elif guess<number: # guess is bigger than the varible\n",
    "            low=guess # set the low bound as the guess\n",
    "            guess=int((low+high)/2) # dichotomize the range again\n",
    "            time=time+1 # time increase 1\n",
    "            print(\"we have tried\", time, \"times; my guess was\", guess)\n",
    "    print(\"Finally after\", time, \"times, we get correct answer\", number)\n",
    "    \n",
    "game()"
   ]
  },
  {
   "cell_type": "code",
   "execution_count": 3,
   "metadata": {},
   "outputs": [
    {
     "name": "stdout",
     "output_type": "stream",
     "text": [
      "Please put your string here: abrakadabra\n",
      "Here is your string: bra\n"
     ]
    }
   ],
   "source": [
    "def substring(str1): # define the function substring\n",
    "    i=0 # index of each letter from the input string\n",
    "    str2=\"\" # start with empty string, the new letters will be add to substring\n",
    "    for letter in str1: # traversal with a for loop \n",
    "        i+=1 # iternation and check all the letters after ith letter\n",
    "        if str1.find(letter, i)<0: # check whether the ith letter repeated later\n",
    "            str2=str2+letter # if it never repeats, add it into the substring\n",
    "        elif str1.find(letter, i)>0: # if the ith letter repeats, \n",
    "            str2=\"\" # clean the substring and start it over\n",
    "    print(\"Here is your string:\", str2) # print out the substring\n",
    "    \n",
    "str1=str(input(\"Please put your string here: \"))\n",
    "substring(str1) # can also be achieved with rfind function\n",
    "    "
   ]
  },
  {
   "cell_type": "code",
   "execution_count": null,
   "metadata": {},
   "outputs": [],
   "source": []
  },
  {
   "cell_type": "code",
   "execution_count": null,
   "metadata": {},
   "outputs": [],
   "source": [
    "from random import randrange # get the random selection function\n",
    "def maxpro(x): # define the function \"maxproduct\"\n",
    "    if x<=3: # if the value we select is 2 the result will be 1; \n",
    "             # if the value we select is 3 the result will be 2.\n",
    "        product=x-1\n",
    "    elif x>=4:\n",
    "        maxpro(x-3)\n",
    "    "
   ]
  },
  {
   "cell_type": "code",
   "execution_count": null,
   "metadata": {},
   "outputs": [],
   "source": []
  }
 ],
 "metadata": {
  "kernelspec": {
   "display_name": "Python 3",
   "language": "python",
   "name": "python3"
  },
  "language_info": {
   "codemirror_mode": {
    "name": "ipython",
    "version": 3
   },
   "file_extension": ".py",
   "mimetype": "text/x-python",
   "name": "python",
   "nbconvert_exporter": "python",
   "pygments_lexer": "ipython3",
   "version": "3.7.4"
  }
 },
 "nbformat": 4,
 "nbformat_minor": 2
}
