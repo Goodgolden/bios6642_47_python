{
 "cells": [
  {
   "cell_type": "code",
   "execution_count": 23,
   "metadata": {},
   "outputs": [
    {
     "name": "stdout",
     "output_type": "stream",
     "text": [
      "please provide your list: p,py,pyt,pyth,pytho,python\n",
      "['p', 'py', 'pyt', 'pyth', 'pytho', 'python']\n",
      "p\n",
      "py\n",
      "pyt\n",
      "pyth\n",
      "pytho\n",
      "python\n",
      "['p', 'py', 'pyt', 'pyth', 'pytho', 'python']\n",
      "p ['p', 'py', 'pyt', 'pyth', 'pytho', 'python'] p\n",
      "py\n",
      "pyt\n",
      "pyth\n",
      "pytho\n",
      "python\n",
      "['py', 'pyt', 'pyth', 'pytho', 'python']\n",
      "p? ['py', 'pyt', 'pyth', 'pytho', 'python'] py\n",
      "pyt\n",
      "pyth\n",
      "pytho\n",
      "python\n",
      "['pyt', 'pyth', 'pytho', 'python']\n",
      "py? ['pyt', 'pyth', 'pytho', 'python'] pyt\n",
      "['pytho']\n",
      "pyt? ['pytho'] pytho\n",
      "['pytho'] pyt?\n"
     ]
    }
   ],
   "source": [
    "lst=input(\"please provide your list: \")\n",
    "lst=list(lst.split(','))\n",
    "lst.sort(key=str.lower)\n",
    "print(lst)\n",
    "\n",
    "def prefix(lst):\n",
    "    prefix=lst\n",
    "    for item in lst:\n",
    "        if len(prefix)>len(item):\n",
    "            prefix=item\n",
    "        else:\n",
    "            continue\n",
    "    return prefix\n",
    "\n",
    "def clean(lst):\n",
    "    for item in lst: \n",
    "        if item[0:len(prefix(lst))]==prefix(lst):\n",
    "            continue\n",
    "        else:\n",
    "            lst.remove(item)\n",
    "    return lst \n",
    "\n",
    "def game(lst):\n",
    "    pre=prefix(lst)\n",
    "    i=0\n",
    "    while zlen(clean(lst))):\n",
    "        if fnmatch.fnmatch(lst[i], pre):\n",
    "            pre=lst[i]+\"?\"\n",
    "            i=i+1\n",
    "        else:\n",
    "            break\n",
    "    print(lst[i-1], pre)\n",
    "    \n",
    "game(lst)"
   ]
  }
 ],
 "metadata": {
  "kernelspec": {
   "display_name": "Python 3",
   "language": "python",
   "name": "python3"
  },
  "language_info": {
   "codemirror_mode": {
    "name": "ipython",
    "version": 3
   },
   "file_extension": ".py",
   "mimetype": "text/x-python",
   "name": "python",
   "nbconvert_exporter": "python",
   "pygments_lexer": "ipython3",
   "version": "3.7.4"
  }
 },
 "nbformat": 4,
 "nbformat_minor": 2
}
