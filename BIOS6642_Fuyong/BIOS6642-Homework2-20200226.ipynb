{
 "cells": [
  {
   "cell_type": "code",
   "execution_count": null,
   "metadata": {},
   "outputs": [],
   "source": [
    "from math import log10 # use the log10 function is more efficent than the while loop\n",
    "n=int(input(\"Please provide an integer: \"))\n",
    "rev=0 # start with a fresh beginning\n",
    "if n>0: # condition for positive integer\n",
    "    m=int(log10(n)) # how many digits in the integer.\n",
    "    for i in range(0, m+1):\n",
    "        d=n//10**(m-i) # to get one digit each time, from high to low\n",
    "        rev=d*(10**(i))+rev # to add the exact digit from last step, from low to high\n",
    "        n=n%(10**(m-i)) # to get the second highest digit of the       \n",
    "elif n<0: # condition for negative integar\n",
    "    n=-n # temperarily change the sign\n",
    "    m=int(log10(n))\n",
    "    for i in range(0, m+1):\n",
    "        d=n//10**(m-i) # to get one digit each time, from high to low\n",
    "        rev=d*(10**i)+rev # to add the exact digit from last step, from low to high\n",
    "        n=n%(10**(m-i)) # to get the second highest digit of the       \n",
    "    rev=-rev #change the sign back\n",
    "# if n=0, then we do not need to do anything\n",
    "print(\"Your result is:\", rev)"
   ]
  },
  {
   "cell_type": "code",
   "execution_count": 1,
   "metadata": {},
   "outputs": [
    {
     "name": "stdout",
     "output_type": "stream",
     "text": [
      "Please provide a positive integer: \n",
      "30\n",
      "Please provide a larger positive integer: \n",
      "50\n",
      "Here are your results: \n",
      "33\n",
      "36\n",
      "44\n",
      "48\n"
     ]
    }
   ],
   "source": [
    "from math import log10 # use the log10 function is more efficent than the while loop\n",
    "p1=int(input(\"Please provide a positive integer: \\n\"))\n",
    "p2=int(input(\"Please provide a larger positive integer: \\n\"))\n",
    "if (p1>=p2) or p1<=0 or p2<=0: # if the requirement is mot meet, there will be warning message.\n",
    "    print(\"Are you kidding? Do it again\")\n",
    "else:\n",
    "    print(\"Here are your results: \")\n",
    "    for p in range(p1, p2+1): # the range will start from p1 and end to p2; this statement will include p2\n",
    "        n=p # because p is need to be used later, so assign the value of p to n\n",
    "        for i in range(0, int(log10(p))+1): # to extract each digit in the integer n\n",
    "            r=n//10**(int(log10(p))-i) # and assign the digit to r, from the highest to lowest\n",
    "            n=n%10**(int(log10(p))-i) # can also be coded with round(p, -m-i+1)\n",
    "            if r==0: # 0 cannot be the denominator\n",
    "                break # so just stop\n",
    "            else: # for the case of nonzero,\n",
    "                if p%r == 0: #p is dividable by r then we can test the next highest digit.\n",
    "                    if i==int(log10(p)): # print the value p, if and only if all p can be divided by all of the digits  \n",
    "                        print(p) \n",
    "                else: # as long as there is one digit does not work, the program will break\n",
    "                    break"
   ]
  },
  {
   "cell_type": "code",
   "execution_count": null,
   "metadata": {},
   "outputs": [],
   "source": [
    "from math import log10\n",
    "p1=int(input(\"Please provide a positive integer: \"))\n",
    "p2=int(input(\"Please provide a larger positive integer: \"))\n",
    "\n",
    "if (p1>=p2) or p1<=0 or p2<=0: # a warning message for other condition\n",
    "    print(\"Are you kidding? Do it again\")\n",
    "else:\n",
    "    print(\"Here are your results: \")\n",
    "    for p in range(p1, p2+1):\n",
    "        n=p\n",
    "        for i in range(0, int(log10(p))+1):\n",
    "            r=n//10**(int(log10(p))-i)\n",
    "            n=n%10**(int(log10(p))-i)\n",
    "            if r==0:\n",
    "                continue\n",
    "            else:\n",
    "                if p%r == 0:\n",
    "                    if i==int(log10(p)):\n",
    "                        print(p)\n",
    "                    else:\n",
    "                        continue\n",
    "                else:\n",
    "                    break"
   ]
  },
  {
   "cell_type": "code",
   "execution_count": null,
   "metadata": {},
   "outputs": [],
   "source": []
  },
  {
   "cell_type": "code",
   "execution_count": null,
   "metadata": {},
   "outputs": [],
   "source": []
  },
  {
   "cell_type": "code",
   "execution_count": null,
   "metadata": {},
   "outputs": [],
   "source": []
  },
  {
   "cell_type": "code",
   "execution_count": null,
   "metadata": {},
   "outputs": [],
   "source": []
  },
  {
   "cell_type": "code",
   "execution_count": null,
   "metadata": {},
   "outputs": [],
   "source": []
  }
 ],
 "metadata": {
  "kernelspec": {
   "display_name": "Python 3",
   "language": "python",
   "name": "python3"
  },
  "language_info": {
   "codemirror_mode": {
    "name": "ipython",
    "version": 3
   },
   "file_extension": ".py",
   "mimetype": "text/x-python",
   "name": "python",
   "nbconvert_exporter": "python",
   "pygments_lexer": "ipython3",
   "version": "3.7.4"
  }
 },
 "nbformat": 4,
 "nbformat_minor": 2
}
