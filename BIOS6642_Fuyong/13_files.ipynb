{
 "cells": [
  {
   "cell_type": "code",
   "execution_count": 1,
   "metadata": {},
   "outputs": [
    {
     "name": "stdout",
     "output_type": "stream",
     "text": [
      "0 1\n",
      "1 2\n",
      "2 3\n",
      "3 4\n",
      "---------------\n",
      "0 1 a\n",
      "1 2 b\n",
      "2 3 c\n",
      "3 4 d\n"
     ]
    }
   ],
   "source": [
    "example_dict = {1:'a', 2:'b', 3:'c', 4:'d'} \n",
    "for i, k in enumerate(example_dict):\n",
    "    print(i, k)\n",
    "\n",
    "print('---------------')\n",
    "for i, (k, v) in enumerate(example_dict.items()):\n",
    "    print(i, k, v)\n"
   ]
  },
  {
   "cell_type": "code",
   "execution_count": 2,
   "metadata": {},
   "outputs": [
    {
     "name": "stdout",
     "output_type": "stream",
     "text": [
      "Bios\n",
      "6642\n",
      "Python\n",
      "\n"
     ]
    }
   ],
   "source": [
    "file = open('myfile.txt')\n",
    "print(file.read())\n",
    "file.close()"
   ]
  },
  {
   "cell_type": "code",
   "execution_count": 3,
   "metadata": {},
   "outputs": [
    {
     "name": "stdout",
     "output_type": "stream",
     "text": [
      "Bios\n",
      "\n",
      "6642\n",
      "\n",
      "Python\n",
      "\n"
     ]
    }
   ],
   "source": [
    "file = open('myfile.txt')\n",
    "print(file.readline())\n",
    "print(file.readline())\n",
    "print(file.readline())\n",
    "file.close()"
   ]
  },
  {
   "cell_type": "code",
   "execution_count": 4,
   "metadata": {},
   "outputs": [
    {
     "name": "stdout",
     "output_type": "stream",
     "text": [
      "['Bios\\n', '6642\\n', 'Python\\n']\n"
     ]
    }
   ],
   "source": [
    "file = open('myfile.txt')\n",
    "print(file.readlines())\n",
    "file.close()"
   ]
  },
  {
   "cell_type": "code",
   "execution_count": 5,
   "metadata": {},
   "outputs": [
    {
     "name": "stdout",
     "output_type": "stream",
     "text": [
      "13\n",
      "3\n",
      "7\n",
      "12\n",
      "Introduction\n",
      "to\n",
      "Python\n",
      "Programming\n",
      "\n"
     ]
    }
   ],
   "source": [
    "file = open('myfile_output.txt', 'w')\n",
    "print(file.write('Introduction\\n'))\n",
    "print(file.write('to\\n'))\n",
    "print(file.write('Python\\n'))\n",
    "print(file.write('Programming\\n'))\n",
    "file.close()\n",
    "\n",
    "\n",
    "file = open('myfile_output.txt')\n",
    "print(file.read())\n",
    "file.close()"
   ]
  },
  {
   "cell_type": "code",
   "execution_count": 6,
   "metadata": {},
   "outputs": [
    {
     "name": "stdout",
     "output_type": "stream",
     "text": [
      "S)ave L)oad Q)uit: s\n",
      "Enter file name:numbers.txt\n",
      "Please enter number (999 quits):10\n",
      "Please enter number (999 quits):20\n",
      "Please enter number (999 quits):30\n",
      "Please enter number (999 quits):40\n",
      "Please enter number (999 quits):50\n",
      "Please enter number (999 quits):999\n",
      "S)ave L)oad Q)uit: l\n",
      "Enter filename:numbers.txt\n",
      "10\n",
      "20\n",
      "30\n",
      "40\n",
      "50\n",
      "S)ave L)oad Q)uit: q\n"
     ]
    }
   ],
   "source": [
    "\"\"\"\n",
    "Uses Python's file class to store data to and retrieve data from\n",
    "a text file.\n",
    "\"\"\"\n",
    "def load_data(filename):\n",
    "    \"\"\" Print the elements stored in the text file named filename. \"\"\"\n",
    "    # Open file to read\n",
    "    with open(filename) as f: # f is a file object\n",
    "        for line in f: # Read each line as text\n",
    "            print(int(line)) # Convert to integer and append to the list\n",
    "            \n",
    "def store_data(filename):\n",
    "    \"\"\" Allows the user to store data to the text file named filename. \"\"\"\n",
    "    with open(filename, 'w') as f: # f is a file object\n",
    "        number = 0\n",
    "        while number != 999: # Loop until user provides magic number\n",
    "            number = int(input('Please enter number (999 quits):'))\n",
    "            if number != 999:\n",
    "                f.write(str(number) + '\\n') # Convert integer to string to save\n",
    "            else:\n",
    "                break # Exit loop\n",
    "                    \n",
    "def main():\n",
    "    \"\"\" Interactive function that allows the user to\n",
    "        create or consume files of numbers. \"\"\"\n",
    "    done = False\n",
    "    while not done:\n",
    "        cmd = input('S)ave L)oad Q)uit: ')\n",
    "        if cmd == 'S' or cmd == 's':\n",
    "            store_data(input('Enter file name:'))\n",
    "        elif cmd == 'L' or cmd == 'l':\n",
    "            load_data(input('Enter filename:'))\n",
    "        elif cmd == 'Q' or cmd == 'q':\n",
    "            done = True\n",
    "            \n",
    "if __name__ == '__main__':\n",
    "    main()"
   ]
  },
  {
   "cell_type": "code",
   "execution_count": 7,
   "metadata": {},
   "outputs": [
    {
     "name": "stdout",
     "output_type": "stream",
     "text": [
      "WHEN IN THE COURSE OF HUMAN EVENTS, IT BECOMES NECESSARY FOR ONE PEOPLE TO DISSOLVE\n",
      "THE POLITICAL BANDS WHICH HAVE CONNECTED THEM WITH ANOTHER, AND TO ASSUME AMONG THE\n",
      "POWERS OF THE EARTH, THE SEPARATE AND EQUAL STATION TO WHICH THE LAWS OF NATURE AND\n",
      "OF NATURE’S GOD ENTITLE THEM, A DECENT RESPECT TO THE OPINIONS OF MANKIND REQUIRES\n",
      "THAT THEY SHOULD DECLARE THE CAUSES WHICH IMPEL THEM TO THE SEPARATION.\n",
      "\n"
     ]
    }
   ],
   "source": [
    "# declaration.txt\n",
    "\"\"\"\n",
    "When in the Course of human events, it becomes necessary for one people to dissolve\n",
    "the political bands which have connected them with another, and to assume among the\n",
    "powers of the earth, the separate and equal station to which the Laws of Nature and\n",
    "of Nature’s God entitle them, a decent respect to the opinions of mankind requires\n",
    "that they should declare the causes which impel them to the separation.\n",
    "\"\"\"\n",
    "\n",
    "def capitalize(filename):\n",
    "    \"\"\" Creates a new file with the prefix 'upper_'\n",
    "        added to the name of the original file.\n",
    "        All the alphabetic characters in the new\n",
    "        are capitalized. This function does not\n",
    "        disturb the contents of the original file. \"\"\"\n",
    "    with open(filename, 'r') as infile:\n",
    "        with open('upper_' + filename, 'w') as outfile:\n",
    "            for line in infile:\n",
    "                #print(line)\n",
    "                line = line.strip().upper()\n",
    "                print(line, file=outfile)\n",
    "\n",
    "capitalize('declaration.txt')\n",
    "file = open('upper_declaration.txt')\n",
    "print(file.read())\n",
    "file.close()"
   ]
  },
  {
   "cell_type": "code",
   "execution_count": 9,
   "metadata": {},
   "outputs": [
    {
     "name": "stdout",
     "output_type": "stream",
     "text": [
      "Name     Score    Grade   \n",
      "John     99       A       \n",
      "Ella     100      A       \n"
     ]
    }
   ],
   "source": [
    "stu_grd = open(\"student_grades.csv\", 'r')\n",
    "lines = stu_grd.readlines()\n",
    "header = lines[0]\n",
    "names = header.strip().split(',')\n",
    "print(\"{0:8} {1:8} {2:8}\".format(names[0], names[1], names[2]))\n",
    "for row in lines[1:]:\n",
    "    values = row.strip().split(',')\n",
    "    if values[2] == \"A\":\n",
    "         print(\"{0:8} {1:8} {2:8}\".format(values[0], values[1], values[2]))\n",
    "stu_grd.close()"
   ]
  },
  {
   "cell_type": "code",
   "execution_count": 10,
   "metadata": {},
   "outputs": [],
   "source": [
    "stu_rcds = [(\"John\", 99, \"A\"),\n",
    "             (\"Mia\", 93, \"A-\"),\n",
    "             (\"David\", 89, \"B+\"),\n",
    "             (\"Ella\", 100, \"A\"),\n",
    "             (\"Jim\", 92, \"A-\")]\n",
    "\n",
    "output_file = open(\"student_records.csv\", \"w\")\n",
    "# write the header \n",
    "output_file.write('Name,Score,Grade')\n",
    "output_file.write('\\n')\n",
    "\n",
    "# write each student's record\n",
    "for stu_rcd in stu_rcds:\n",
    "    rcd_string = '{},{},{}'.format(stu_rcd[0], stu_rcd[1], stu_rcd[2])\n",
    "    output_file.write(rcd_string)\n",
    "    output_file.write('\\n')\n",
    "output_file.close()"
   ]
  },
  {
   "cell_type": "code",
   "execution_count": 11,
   "metadata": {},
   "outputs": [
    {
     "name": "stdout",
     "output_type": "stream",
     "text": [
      "Name     Score    Grade   \n",
      "John     99       A       \n",
      "Mia      93       A-      \n",
      "David    89       B+      \n",
      "Ella     100      A       \n",
      "Jim      92       A-      \n"
     ]
    }
   ],
   "source": [
    "stu_grd = open(\"student_records.csv\", 'r')\n",
    "lines = stu_grd.readlines()\n",
    "header = lines[0]\n",
    "names = header.strip().split(',')\n",
    "print(\"{0:8} {1:8} {2:8}\".format(names[0], names[1], names[2]))\n",
    "for row in lines[1:]:\n",
    "    values = row.strip().split(',')\n",
    "    print(\"{0:8} {1:8} {2:8}\".format(values[0], values[1], values[2]))\n",
    "stu_grd.close()"
   ]
  }
 ],
 "metadata": {
  "kernelspec": {
   "display_name": "Python 3",
   "language": "python",
   "name": "python3"
  },
  "language_info": {
   "codemirror_mode": {
    "name": "ipython",
    "version": 3
   },
   "file_extension": ".py",
   "mimetype": "text/x-python",
   "name": "python",
   "nbconvert_exporter": "python",
   "pygments_lexer": "ipython3",
   "version": "3.6.5"
  }
 },
 "nbformat": 4,
 "nbformat_minor": 2
}
