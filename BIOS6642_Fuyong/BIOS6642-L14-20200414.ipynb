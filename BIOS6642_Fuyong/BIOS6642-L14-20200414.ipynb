{
 "cells": [
  {
   "cell_type": "code",
   "execution_count": 3,
   "metadata": {},
   "outputs": [
    {
     "name": "stdout",
     "output_type": "stream",
     "text": [
      "Please enter two numbers to divide.\n",
      "Please enter the dividend: 5\n",
      "Please enter the divisor: 1\n",
      "5 divided by 1 = 5.0\n"
     ]
    }
   ],
   "source": [
    "print('Please enter two numbers to divide.')\n",
    "num1 = int(input('Please enter the dividend: '))\n",
    "num2 = int(input('Please enter the divisor: '))\n",
    "if num2 != 0:\n",
    "    print('{0} divided by {1} = {2}'.format(num1, num2, num1/num2))\n",
    "else:\n",
    "    print('Cannot divide by zero')"
   ]
  },
  {
   "cell_type": "code",
   "execution_count": 2,
   "metadata": {},
   "outputs": [
    {
     "name": "stdout",
     "output_type": "stream",
     "text": [
      "Please enter a small positive integer: 5\n",
      "You entered 5\n"
     ]
    }
   ],
   "source": [
    "val = int(input(\"Please enter a small positive integer: \"))\n",
    "print('You entered', val)"
   ]
  },
  {
   "cell_type": "code",
   "execution_count": 5,
   "metadata": {},
   "outputs": [
    {
     "name": "stdout",
     "output_type": "stream",
     "text": [
      "Please enter a small positive integer: 5\n",
      "You entered 5\n"
     ]
    }
   ],
   "source": [
    "try:\n",
    "    val = int(input(\"Please enter a small positive integer: \"))\n",
    "    print('You entered', val)\n",
    "except ValueError:\n",
    "    print('Input not accepted')"
   ]
  },
  {
   "cell_type": "code",
   "execution_count": 13,
   "metadata": {},
   "outputs": [
    {
     "name": "stdout",
     "output_type": "stream",
     "text": [
      "Please enter a small positive integer: 1\n",
      "You entered 1\n"
     ]
    },
    {
     "ename": "NameError",
     "evalue": "name 'printprint' is not defined",
     "output_type": "error",
     "traceback": [
      "\u001b[1;31m---------------------------------------------------------------------------\u001b[0m",
      "\u001b[1;31mIndexError\u001b[0m                                Traceback (most recent call last)",
      "\u001b[1;32m<ipython-input-13-ee49b6d8f52a>\u001b[0m in \u001b[0;36m<module>\u001b[1;34m\u001b[0m\n\u001b[0;32m      3\u001b[0m     \u001b[0mprint\u001b[0m\u001b[1;33m(\u001b[0m\u001b[1;34m'You entered'\u001b[0m\u001b[1;33m,\u001b[0m \u001b[0mval\u001b[0m\u001b[1;33m)\u001b[0m\u001b[1;33m\u001b[0m\u001b[1;33m\u001b[0m\u001b[0m\n\u001b[1;32m----> 4\u001b[1;33m     \u001b[1;33m[\u001b[0m\u001b[1;33m]\u001b[0m\u001b[1;33m[\u001b[0m\u001b[1;36m2\u001b[0m\u001b[1;33m]\u001b[0m \u001b[1;33m=\u001b[0m \u001b[1;36m5\u001b[0m \u001b[1;31m# Try to assign to a nonexistent index of the empty list\u001b[0m\u001b[1;33m\u001b[0m\u001b[1;33m\u001b[0m\u001b[0m\n\u001b[0m\u001b[0;32m      5\u001b[0m \u001b[1;32mexcept\u001b[0m \u001b[0mIndexError\u001b[0m\u001b[1;33m:\u001b[0m\u001b[1;33m\u001b[0m\u001b[1;33m\u001b[0m\u001b[0m\n",
      "\u001b[1;31mIndexError\u001b[0m: list assignment index out of range",
      "\nDuring handling of the above exception, another exception occurred:\n",
      "\u001b[1;31mNameError\u001b[0m                                 Traceback (most recent call last)",
      "\u001b[1;32m<ipython-input-13-ee49b6d8f52a>\u001b[0m in \u001b[0;36m<module>\u001b[1;34m\u001b[0m\n\u001b[0;32m      4\u001b[0m     \u001b[1;33m[\u001b[0m\u001b[1;33m]\u001b[0m\u001b[1;33m[\u001b[0m\u001b[1;36m2\u001b[0m\u001b[1;33m]\u001b[0m \u001b[1;33m=\u001b[0m \u001b[1;36m5\u001b[0m \u001b[1;31m# Try to assign to a nonexistent index of the empty list\u001b[0m\u001b[1;33m\u001b[0m\u001b[1;33m\u001b[0m\u001b[0m\n\u001b[0;32m      5\u001b[0m \u001b[1;32mexcept\u001b[0m \u001b[0mIndexError\u001b[0m\u001b[1;33m:\u001b[0m\u001b[1;33m\u001b[0m\u001b[1;33m\u001b[0m\u001b[0m\n\u001b[1;32m----> 6\u001b[1;33m     \u001b[0mprintprint\u001b[0m\u001b[1;33m(\u001b[0m\u001b[1;34m'Input not accepted'\u001b[0m\u001b[1;33m)\u001b[0m\u001b[1;33m\u001b[0m\u001b[1;33m\u001b[0m\u001b[0m\n\u001b[0m",
      "\u001b[1;31mNameError\u001b[0m: name 'printprint' is not defined"
     ]
    }
   ],
   "source": [
    "try:\n",
    "    val = int(input(\"Please enter a small positive integer: \"))\n",
    "    print('You entered', val)\n",
    "    [][2] = 5 # Try to assign to a nonexistent index of the empty list\n",
    "except IndexError:\n",
    "    printprint('Input not accepted')"
   ]
  },
  {
   "cell_type": "code",
   "execution_count": 12,
   "metadata": {},
   "outputs": [
    {
     "name": "stdout",
     "output_type": "stream",
     "text": [
      "Beginning of loop iteration 0\n",
      "This program has encountered a problem\n",
      "End of loop iteration 0\n",
      "Beginning of loop iteration 1\n",
      "This program has encountered a problem\n",
      "End of loop iteration 1\n",
      "Beginning of loop iteration 2\n",
      "This program has encountered a problem\n",
      "End of loop iteration 2\n",
      "Beginning of loop iteration 3\n",
      "This program has encountered a problem\n",
      "End of loop iteration 3\n",
      "Beginning of loop iteration 4\n",
      "This program has encountered a problem\n",
      "End of loop iteration 4\n",
      "Beginning of loop iteration 5\n",
      "This program has encountered a problem\n",
      "End of loop iteration 5\n",
      "Beginning of loop iteration 6\n",
      "This program has encountered a problem\n",
      "End of loop iteration 6\n",
      "Beginning of loop iteration 7\n",
      "This program has encountered a problem\n",
      "End of loop iteration 7\n",
      "Beginning of loop iteration 8\n",
      "This program has encountered a problem\n",
      "End of loop iteration 8\n",
      "Beginning of loop iteration 9\n",
      "This program has encountered a problem\n",
      "End of loop iteration 9\n"
     ]
    }
   ],
   "source": [
    "import random\n",
    "for i in range(10): # Loop 10 times\n",
    "    print('Beginning of loop iteration', i)\n",
    "    try:\n",
    "        r = random.randint(1, 3) # r is pseudorandomly 1, 2, or 3\n",
    "        if r == 1:\n",
    "            print(int('Fred')) # Try to convert a non-integer\n",
    "        elif r == 2:\n",
    "            [][2] = 5 # Try to assign to a nonexistent index of the empty list\n",
    "        else:\n",
    "            print(3/0) # Try to divide by zero\n",
    "    except ValueError:\n",
    "        print('Cannot convert integer')\n",
    "    except IndexError:\n",
    "        print('List index is out of range')\n",
    "    except ZeroDivisionError:\n",
    "        print('Division by zero not allowed')\n",
    "    except Exception: # Catch any other type of exception\n",
    "        print('This program has encountered a problem')\n",
    "    \n",
    "    print('End of loop iteration', i)"
   ]
  },
  {
   "cell_type": "code",
   "execution_count": 15,
   "metadata": {},
   "outputs": [
    {
     "name": "stdout",
     "output_type": "stream",
     "text": [
      "Beginning of loop iteration 0\n",
      "Problem with value ==> <class 'ValueError'> invalid literal for int() with base 10: 'Fred'\n",
      "End of loop iteration 0\n",
      "Beginning of loop iteration 1\n",
      "Problem with value ==> <class 'ValueError'> invalid literal for int() with base 10: 'Fred'\n",
      "End of loop iteration 1\n",
      "Beginning of loop iteration 2\n",
      "Problem with something ==> <class 'KeyError'> 1\n",
      "End of loop iteration 2\n",
      "Beginning of loop iteration 3\n",
      "Problem with something ==> <class 'KeyError'> 1\n",
      "End of loop iteration 3\n",
      "Beginning of loop iteration 4\n",
      "Problem with division ==> <class 'ZeroDivisionError'> division by zero\n",
      "End of loop iteration 4\n",
      "Beginning of loop iteration 5\n",
      "Problem with division ==> <class 'ZeroDivisionError'> division by zero\n",
      "End of loop iteration 5\n",
      "Beginning of loop iteration 6\n",
      "Problem with list ==> <class 'IndexError'> list assignment index out of range\n",
      "End of loop iteration 6\n",
      "Beginning of loop iteration 7\n",
      "Problem with division ==> <class 'ZeroDivisionError'> division by zero\n",
      "End of loop iteration 7\n",
      "Beginning of loop iteration 8\n",
      "Problem with value ==> <class 'ValueError'> invalid literal for int() with base 10: 'Fred'\n",
      "End of loop iteration 8\n",
      "Beginning of loop iteration 9\n",
      "Problem with value ==> <class 'ValueError'> invalid literal for int() with base 10: 'Fred'\n",
      "End of loop iteration 9\n"
     ]
    }
   ],
   "source": [
    "import random\n",
    "for i in range(10): # Loop 10 times\n",
    "    print('Beginning of loop iteration', i)\n",
    "    try:\n",
    "        r = random.randint(1, 4) # r is pseudorandomly 1, 2, 3, or 4\n",
    "        if r == 1:\n",
    "            print(int('Fred')) # Try to convert a non-integer\n",
    "        elif r == 2:\n",
    "            [][2] = 5 # Try to assign to a nonexistent index of the empty list\n",
    "        elif r == 3:\n",
    "            print({}[1]) # Try to use a nonexistent key to get an item from a dictionary\n",
    "        else:\n",
    "            print(3/0) # Try to divide by zero\n",
    "    except ValueError as e:\n",
    "        print('Problem with value ==>', type(e), e)\n",
    "    except IndexError as e:\n",
    "        print('Problem with list ==>', type(e), e)\n",
    "    except ZeroDivisionError as e:\n",
    "        print('Problem with division ==>', type(e), e)\n",
    "    except Exception as e:\n",
    "        print('Problem with something ==>', type(e), e)\n",
    "    print('End of loop iteration', i)"
   ]
  },
  {
   "cell_type": "code",
   "execution_count": 16,
   "metadata": {},
   "outputs": [],
   "source": [
    "def get_int_in_range(low, high):\n",
    "    \"\"\" Obtains an integer value from the user. Acceptable values\n",
    "    must fall within the specified range low...high. \"\"\"\n",
    "    val = int(input()) # Can raise a ValueError\n",
    "    while val < low or val > high:\n",
    "        print('Value out of range, please try again:', end=' ')\n",
    "        val = int(input()) # Can raise a ValueError\n",
    "    return val\n",
    "\n",
    "def create_list(n, min, max):\n",
    "    \"\"\" Allows the user to create a list of n elements consisting\n",
    "    of integers in the range min...max \"\"\"\n",
    "    result = []\n",
    "    while n > 0: # Count down to zero\n",
    "        print('Enter integer in the range {}...{}:'.format(min, max), end=' ')\n",
    "        result.append(get_int_in_range(min, max))\n",
    "        n -= 1\n",
    "    return result\n",
    "\n",
    "def main():\n",
    "    \"\"\" Create a list of two elements supplied by the user,\n",
    "    each element in the range 10...20 \"\"\"\n",
    "    lst = create_list(2, 10, 20)\n",
    "    print(lst)"
   ]
  },
  {
   "cell_type": "code",
   "execution_count": 19,
   "metadata": {},
   "outputs": [
    {
     "name": "stdout",
     "output_type": "stream",
     "text": [
      "Enter integer in the range 10...20: 0\n",
      "Value out of range, please try again: 10\n",
      "Enter integer in the range 10...20: 0\n",
      "Value out of range, please try again: 10\n",
      "[10, 10]\n"
     ]
    }
   ],
   "source": [
    "if __name__ == '__main__':\n",
    "    main() # Invoke main"
   ]
  },
  {
   "cell_type": "code",
   "execution_count": 23,
   "metadata": {},
   "outputs": [
    {
     "name": "stdout",
     "output_type": "stream",
     "text": [
      "Enter integer in the range 10...20: 12\n",
      "Enter integer in the range 10...20: eleven\n",
      "Disallowed user entry interrupted list creation\n",
      "[12]\n"
     ]
    }
   ],
   "source": [
    "def get_int_in_range(low, high):\n",
    "    \"\"\" Obtains an integer value from the user. Acceptable values\n",
    "    must fall within the specified range low...high. \"\"\"\n",
    "    val = int(input()) # Can raise a ValueError\n",
    "    while val < low or val > high:\n",
    "        print('Value out of range, please try again:', end=' ')\n",
    "        val = int(input()) # Can raise a ValueError\n",
    "    return val\n",
    "\n",
    "def create_list(n, min, max):\n",
    "    \"\"\" Allows the user to create a list of n elements consisting\n",
    "    of integers in the range min...max \"\"\"\n",
    "    result = []\n",
    "    try:\n",
    "        while n > 0: # Count down to zero\n",
    "            print('Enter integer in the range {}...{}:'.format(min, max), end=' ')\n",
    "            result.append(get_int_in_range(min, max))\n",
    "            n -= 1\n",
    "    except ValueError:\n",
    "        print('Disallowed user entry interrupted list creation')\n",
    "    return result\n",
    "\n",
    "def main():\n",
    "    \"\"\" Create a list of two elements supplied by the user,\n",
    "    each element in the range 10...20 \"\"\"\n",
    "    lst = create_list(2, 10, 20)\n",
    "    print(lst)\n",
    "    \n",
    "if __name__ == '__main__':\n",
    "    main()"
   ]
  },
  {
   "cell_type": "code",
   "execution_count": 24,
   "metadata": {},
   "outputs": [
    {
     "name": "stdout",
     "output_type": "stream",
     "text": [
      "Please enter a nonnegative integer:3\n",
      "You entered 3\n",
      "Please enter a nonnegative integer:-3\n"
     ]
    },
    {
     "ename": "ValueError",
     "evalue": "-3",
     "output_type": "error",
     "traceback": [
      "\u001b[1;31m---------------------------------------------------------------------------\u001b[0m",
      "\u001b[1;31mValueError\u001b[0m                                Traceback (most recent call last)",
      "\u001b[1;32m<ipython-input-24-86a500d645c7>\u001b[0m in \u001b[0;36m<module>\u001b[1;34m\u001b[0m\n\u001b[0;32m      6\u001b[0m \u001b[1;33m\u001b[0m\u001b[0m\n\u001b[0;32m      7\u001b[0m \u001b[1;32mwhile\u001b[0m \u001b[1;32mTrue\u001b[0m\u001b[1;33m:\u001b[0m\u001b[1;33m\u001b[0m\u001b[1;33m\u001b[0m\u001b[0m\n\u001b[1;32m----> 8\u001b[1;33m     \u001b[0mx\u001b[0m \u001b[1;33m=\u001b[0m \u001b[0mnon_neg_int\u001b[0m\u001b[1;33m(\u001b[0m\u001b[0minput\u001b[0m\u001b[1;33m(\u001b[0m\u001b[1;34m'Please enter a nonnegative integer:'\u001b[0m\u001b[1;33m)\u001b[0m\u001b[1;33m)\u001b[0m\u001b[1;33m\u001b[0m\u001b[1;33m\u001b[0m\u001b[0m\n\u001b[0m\u001b[0;32m      9\u001b[0m     \u001b[1;32mif\u001b[0m \u001b[0mx\u001b[0m \u001b[1;33m==\u001b[0m \u001b[1;36m999\u001b[0m\u001b[1;33m:\u001b[0m \u001b[1;31m# Secret number exits loop\u001b[0m\u001b[1;33m\u001b[0m\u001b[1;33m\u001b[0m\u001b[0m\n\u001b[0;32m     10\u001b[0m         \u001b[1;32mbreak\u001b[0m\u001b[1;33m\u001b[0m\u001b[1;33m\u001b[0m\u001b[0m\n",
      "\u001b[1;32m<ipython-input-24-86a500d645c7>\u001b[0m in \u001b[0;36mnon_neg_int\u001b[1;34m(n)\u001b[0m\n\u001b[0;32m      2\u001b[0m     \u001b[0mresult\u001b[0m \u001b[1;33m=\u001b[0m \u001b[0mint\u001b[0m\u001b[1;33m(\u001b[0m\u001b[0mn\u001b[0m\u001b[1;33m)\u001b[0m\u001b[1;33m\u001b[0m\u001b[1;33m\u001b[0m\u001b[0m\n\u001b[0;32m      3\u001b[0m     \u001b[1;32mif\u001b[0m \u001b[0mresult\u001b[0m \u001b[1;33m<\u001b[0m \u001b[1;36m0\u001b[0m\u001b[1;33m:\u001b[0m\u001b[1;33m\u001b[0m\u001b[1;33m\u001b[0m\u001b[0m\n\u001b[1;32m----> 4\u001b[1;33m         \u001b[1;32mraise\u001b[0m \u001b[0mValueError\u001b[0m\u001b[1;33m(\u001b[0m\u001b[0mresult\u001b[0m\u001b[1;33m)\u001b[0m\u001b[1;33m\u001b[0m\u001b[1;33m\u001b[0m\u001b[0m\n\u001b[0m\u001b[0;32m      5\u001b[0m     \u001b[1;32mreturn\u001b[0m \u001b[0mresult\u001b[0m\u001b[1;33m\u001b[0m\u001b[1;33m\u001b[0m\u001b[0m\n\u001b[0;32m      6\u001b[0m \u001b[1;33m\u001b[0m\u001b[0m\n",
      "\u001b[1;31mValueError\u001b[0m: -3"
     ]
    }
   ],
   "source": [
    "def non_neg_int(n):\n",
    "    result = int(n)\n",
    "    if result < 0:\n",
    "        raise ValueError(result)\n",
    "    return result\n",
    "\n",
    "while True:\n",
    "    x = non_neg_int(input('Please enter a nonnegative integer:'))\n",
    "    if x == 999: # Secret number exits loop\n",
    "        break\n",
    "    print('You entered', x)"
   ]
  },
  {
   "cell_type": "code",
   "execution_count": 25,
   "metadata": {},
   "outputs": [
    {
     "name": "stdout",
     "output_type": "stream",
     "text": [
      "Please enter a nonnegative integer:3\n",
      "You entered 3\n",
      "Please enter a nonnegative integer:-3\n",
      "The value you entered is not acceptable\n",
      "Please enter a nonnegative integer:5\n",
      "You entered 5\n",
      "Please enter a nonnegative integer:999\n"
     ]
    }
   ],
   "source": [
    "def non_neg_int(n):\n",
    "    \"\"\" Converts argument n into a nonnegative integer, if possible.\n",
    "    Raises a ValueError if the argument is not convertible\n",
    "    to a nonnegative integer. \"\"\"\n",
    "    result = int(n)\n",
    "    if result < 0:\n",
    "        raise ValueError(result)\n",
    "    return result\n",
    "while True:\n",
    "    try:\n",
    "        x = non_neg_int(input('Please enter a nonnegative integer:'))\n",
    "        if x == 999: # Secret number exits loop\n",
    "            break\n",
    "        print('You entered', x)\n",
    "    except ValueError:\n",
    "        print('The value you entered is not acceptable')"
   ]
  },
  {
   "cell_type": "code",
   "execution_count": null,
   "metadata": {},
   "outputs": [],
   "source": []
  },
  {
   "cell_type": "code",
   "execution_count": null,
   "metadata": {},
   "outputs": [],
   "source": []
  },
  {
   "cell_type": "code",
   "execution_count": null,
   "metadata": {},
   "outputs": [],
   "source": []
  },
  {
   "cell_type": "code",
   "execution_count": null,
   "metadata": {},
   "outputs": [],
   "source": []
  },
  {
   "cell_type": "code",
   "execution_count": null,
   "metadata": {},
   "outputs": [],
   "source": []
  },
  {
   "cell_type": "code",
   "execution_count": null,
   "metadata": {},
   "outputs": [],
   "source": []
  },
  {
   "cell_type": "code",
   "execution_count": null,
   "metadata": {},
   "outputs": [],
   "source": []
  },
  {
   "cell_type": "code",
   "execution_count": null,
   "metadata": {},
   "outputs": [],
   "source": []
  }
 ],
 "metadata": {
  "kernelspec": {
   "display_name": "Python 3",
   "language": "python",
   "name": "python3"
  },
  "language_info": {
   "codemirror_mode": {
    "name": "ipython",
    "version": 3
   },
   "file_extension": ".py",
   "mimetype": "text/x-python",
   "name": "python",
   "nbconvert_exporter": "python",
   "pygments_lexer": "ipython3",
   "version": "3.7.4"
  }
 },
 "nbformat": 4,
 "nbformat_minor": 2
}
